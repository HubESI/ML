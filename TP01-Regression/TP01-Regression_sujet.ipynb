{
 "cells": [
  {
   "cell_type": "markdown",
   "id": "432402cd",
   "metadata": {},
   "source": [
    "# TP 01 : Régression linéaire et logistique binaire\n",
    "\n",
    "Binômes : \n",
    "- Binôme 1 Boulechfar Nassim\n",
    "- Binôme 2 Zebbiche Dhai Eddine"
   ]
  },
  {
   "cell_type": "code",
   "execution_count": 45,
   "id": "6c5f906b",
   "metadata": {},
   "outputs": [
    {
     "data": {
      "text/plain": [
       "('1.21.2', '1.4.1', '3.5.1')"
      ]
     },
     "execution_count": 45,
     "metadata": {},
     "output_type": "execute_result"
    }
   ],
   "source": [
    "import matplotlib\n",
    "import numpy             as np\n",
    "import pandas            as pd\n",
    "import matplotlib.pyplot as plt\n",
    "%matplotlib inline\n",
    "\n",
    "np.__version__, pd.__version__, matplotlib.__version__"
   ]
  },
  {
   "cell_type": "code",
   "execution_count": 46,
   "id": "24d1b2e4",
   "metadata": {},
   "outputs": [],
   "source": [
    "from typing          import Tuple, List, Type\n",
    "from collections.abc import Callable"
   ]
  },
  {
   "cell_type": "markdown",
   "id": "7402ac7e",
   "metadata": {},
   "source": [
    "## I. Réalisation des algorithmes\n",
    "\n",
    "Cette partie sert à améliorer la compréhension les algorithmes d'apprentissage automatique vus en cours en les implémentant à partir de zéro. \n",
    "Pour ce faire, on va utiliser la bibliothèque **numpy** qui est utile dans les calcules surtout matricielles.\n",
    "\n",
    "### I.1. Regression linéaire \n",
    "\n",
    "Premièrement, on va implémenter les fonctions nécéssaires pour la régression linéaire.\n",
    "\n",
    "#### I.1.1. Fonction de prédiction\n",
    "\n",
    "$$Z = zf(X, theta) = \\theta_0 + \\sum\\limits_{j=1}^{N} \\theta_j X_j = \\sum\\limits_{j=0}^{N} \\theta_j X_j | X_0 = 1 $$\n",
    "\n",
    "- X : une matrice de M lignes (échantillons) et (N + 1) colonnes (caractéristiques). Avant d'utiliser cette fonction, on doit augmenter la matrice originale avec une colonne pour $X_0 = 1$ si on veut utiliser $\\theta_0$\n",
    "- $\\theta$ : un vecteur des paramétres avec une taille (N + 1)\n",
    "- Z : un vecteur de taille M"
   ]
  },
  {
   "cell_type": "code",
   "execution_count": 47,
   "id": "a9173ed6",
   "metadata": {},
   "outputs": [
    {
     "data": {
      "text/plain": [
       "array([1. , 1.7, 2.4])"
      ]
     },
     "execution_count": 47,
     "metadata": {},
     "output_type": "execute_result"
    }
   ],
   "source": [
    "# TODO: Calculer la combinaison linéaire\n",
    "# X: une matrice [M, N] de M échantillons et N caractéristiques\n",
    "# Theta: un vecteur des paramètres (N)\n",
    "# Résultat: un vecteur de M prédictions\n",
    "def zf(X: np.ndarray, Theta: np.ndarray) -> np.ndarray:\n",
    "    return np.sum(X * Theta, axis=1)\n",
    "\n",
    "#=====================================================================\n",
    "# TEST UNITAIRE\n",
    "#=====================================================================\n",
    "# Resultat : array([1. , 1.7, 2.4])\n",
    "#---------------------------------------------------------------------\n",
    "X_t = np.array([[1., 100.], [1., 200.], [1., 300.]])\n",
    "Theta_t = np.array([0.3, 0.007])\n",
    "zf(X_t, Theta_t)"
   ]
  },
  {
   "cell_type": "markdown",
   "id": "d6988768",
   "metadata": {},
   "source": [
    "#### I.1.2. Fonction du coût\n",
    "\n",
    "La fonction du coût calcule l'erreur entre les valeurs estimées ($H$) en utilisant la fonction de prédiction $z$ précédente (H = Z(X, theta) et les valeurs réelles ($Y$).\n",
    "Ici, on va utiliser l'erreur quadratique moyenne (MSE: mean square error). \n",
    "\n",
    "$$J = MSE(Y, H) = \\frac{1}{2M} \\sum\\limits_{i=1}^{M} (Y - H)^2$$\n"
   ]
  },
  {
   "cell_type": "code",
   "execution_count": 48,
   "id": "958b1e0d",
   "metadata": {},
   "outputs": [
    {
     "data": {
      "text/plain": [
       "0.016666666666666673"
      ]
     },
     "execution_count": 48,
     "metadata": {},
     "output_type": "execute_result"
    }
   ],
   "source": [
    "# TODO: Définir la fonction du coût MSE\n",
    "# Y: un vecteur de M échantillons (les valeurs réelles)\n",
    "# H: un vecteur de M échantillons (les prédictions)\n",
    "# Résulat: une valeur réelle représenntant le coût MSE\n",
    "def MSE(Y: np.ndarray, H: np.ndarray) -> float:\n",
    "    return 1/(2*Y.shape[0]) * np.sum((Y - H)**2)\n",
    "\n",
    "#=====================================================================\n",
    "# TEST UNITAIRE\n",
    "#=====================================================================\n",
    "# Resultat : 0.016666666666666673\n",
    "#---------------------------------------------------------------------\n",
    "H_t = np.array([1. , 1.7, 2.4])\n",
    "Y_t = np.array([1., 2., 2.5])\n",
    "MSE(Y_t, H_t)"
   ]
  },
  {
   "cell_type": "markdown",
   "id": "d5e8c95c",
   "metadata": {},
   "source": [
    "Le gradient de cette fonction est calculé comme suit : \n",
    "\n",
    "$$\\frac{\\partial MSE}{\\partial \\theta_j} \n",
    "= \\frac{\\partial }{\\partial \\theta_j} \\frac{1}{2M} \\sum\\limits_{i=1}^{M} (Y^{(i)} - H^{(i)})^2 \n",
    "= \\frac{1}{2M} \\sum\\limits_{i=1}^{M} [\\frac{\\partial }{\\partial \\theta_j} (Y^{(i)} - H^{(i)})^2]\n",
    "= \\frac{1}{2M} \\sum\\limits_{i=1}^{M} [-2 (Y^{(i)} - H^{(i)}) \\frac{\\partial }{\\partial \\theta_j} H^{(i)}]\n",
    "$$\n",
    "\n",
    "$$\\frac{\\partial MSE}{\\partial \\theta_j}\n",
    "= \\frac{1}{M} \\sum\\limits_{i=1}^{M} [(H^{(i)} - Y^{(i)}) \\frac{\\partial }{\\partial \\theta_j} \\sum\\limits_{k=0}^{N} \\theta_k X_k^{(i)}]\n",
    "= \\frac{1}{M} \\sum\\limits_{i=1}^{M} [(H^{(i)} - Y^{(i)}) \\frac{\\partial }{\\partial \\theta_j} \\theta_j X_j^{(i)}]\n",
    "$$\n",
    "\n",
    "$$\\frac{\\partial MSE}{\\partial \\theta_j} = \\frac{1}{M} \\sum\\limits_{i=1}^{M} (H^{(i)} - Y^{(i)}) X_j^{(i)}$$\n",
    "\n",
    "- \n",
    "Où $X^{(i)}$ est l'échantillon $i$ et $Y^{(i)}$ est la prédiction. $X_0^{(i)} = 1$"
   ]
  },
  {
   "cell_type": "code",
   "execution_count": 49,
   "id": "e72e20b9",
   "metadata": {},
   "outputs": [
    {
     "data": {
      "text/plain": [
       "array([ -0.13333333, -30.        ])"
      ]
     },
     "execution_count": 49,
     "metadata": {},
     "output_type": "execute_result"
    }
   ],
   "source": [
    "# TODO: Définir la fonction de gradient MSE\n",
    "# X: une matrice [M, N] de M échantillons et N caractéristiques\n",
    "# Y: un vecteur de M échantillons (les valeurs réelles)\n",
    "# H: un vecteur de M échantillons (les prédictions)\n",
    "# Résultat: un vecteur de N gradients (un gradient pour chaque théta)\n",
    "def dMSE(X: np.ndarray, Y: np.ndarray, H: np.ndarray) -> np.ndarray:\n",
    "    return 1/Y.shape[0] *np.sum(X * (H - Y)[:, np.newaxis], axis=0)\n",
    "\n",
    "#=====================================================================\n",
    "# TEST UNITAIRE\n",
    "#=====================================================================\n",
    "# Resultat : array([ -0.13333333, -30.        ])\n",
    "#---------------------------------------------------------------------\n",
    "X_t = np.array([[1., 100.], [1., 200.], [1., 300.]])\n",
    "H_t = np.array([1. , 1.7, 2.4])\n",
    "Y_t = np.array([1., 2., 2.5])\n",
    "dMSE(X_t, Y_t, H_t)"
   ]
  },
  {
   "cell_type": "markdown",
   "id": "61fa935b",
   "metadata": {},
   "source": [
    "### I.2. Régression logistique\n",
    "\n",
    "Ici, on va implémenter la régression logistique qui se base sur la combinaison linéaire de la régression linaire.\n",
    "\n",
    "#### I.2.1. Fonction de prédiction\n",
    "\n",
    "$$P(X, theta) = Sg(zf(X, theta)) $$\n",
    "\n",
    "$$Sg(Z) = \\frac{1}{1+e^{-Z}}$$\n",
    "\n",
    "- X : une matrice de M lignes (échantillons) et (N + 1) colonnes (caractéristiques). Avant d'utiliser cette fonction, on doit augmenter la matrice originale avec une colonne pour $X_0 = 1$ si on veut utiliser $\\theta_0$\n",
    "- $\\theta$ : un vecteur des paramétres avec une taille (N + 1)\n",
    "- Z : un vecteur "
   ]
  },
  {
   "cell_type": "code",
   "execution_count": 50,
   "id": "17fae1d8",
   "metadata": {},
   "outputs": [
    {
     "data": {
      "text/plain": [
       "(0.5, array([0.26894142, 0.73105858]))"
      ]
     },
     "execution_count": 50,
     "metadata": {},
     "output_type": "execute_result"
    }
   ],
   "source": [
    "# TODO La fonction ségmoid\n",
    "# Fonction d'activation utilisée pour rendre des valeurs réelles entre 0 et 1\n",
    "# Z: un scalaire ou un vecteur de taille M \n",
    "# Résulat: un scalaire ou un vecteur de taille M\n",
    "def sg(Z: np.ndarray) -> np.ndarray: \n",
    "    # Fonction d'activation utilisée pour rendre les valeurs réelles entre 0 et 1\n",
    "    return 1 / (1 + np.exp(-Z))\n",
    "\n",
    "#=====================================================================\n",
    "# TEST UNITAIRE\n",
    "#=====================================================================\n",
    "# Resultat : (0.5, array([0.26894142, 0.73105858]))\n",
    "#---------------------------------------------------------------------\n",
    "sg(0), sg(np.array([-1, 1]))"
   ]
  },
  {
   "cell_type": "code",
   "execution_count": 51,
   "id": "e2bb3c82",
   "metadata": {},
   "outputs": [
    {
     "data": {
      "text/plain": [
       "array([0.5621765 , 0.99477987, 0.02297737])"
      ]
     },
     "execution_count": 51,
     "metadata": {},
     "output_type": "execute_result"
    }
   ],
   "source": [
    "# TODO La fonction ségmoid\n",
    "# Probabilité de la régression logistique\n",
    "def Hf_log(X, Theta): \n",
    "    return sg(zf(X, Theta))\n",
    "\n",
    "#=====================================================================\n",
    "# TEST UNITAIRE\n",
    "#=====================================================================\n",
    "# Resultat : array([0.5621765 , 0.99477987, 0.02297737])\n",
    "#---------------------------------------------------------------------\n",
    "X_t = np.array([[1., 0], [1., 10.], [1., -8]])\n",
    "Theta_t = np.array([0.25, 0.5])\n",
    "\n",
    "Hf_log(X_t, Theta_t)"
   ]
  },
  {
   "cell_type": "markdown",
   "id": "31162455",
   "metadata": {},
   "source": [
    "#### I.2.2. Fonction du coût\n",
    "\n",
    "La fonction du coût calcule l'erreur entre les valeurs estimées ($H$).\n",
    "Ici, on va utiliser l'entropie croisée binaire (BCE: Binary Cross Entropy Loss). \n",
    "\n",
    "$$BCE(Y^{(i)}, H^{(i)})\n",
    "= \\begin{cases}\n",
    "- \\log(H^{(i)}) & \\text{ si } Y^{(i)} = 1\\\\ \n",
    "- \\log(1 - H^{(i)})  & \\text{ si } Y^{(i)} = 0\n",
    "\\end{cases}\n",
    "$$\n",
    "Puisque $Y^{(i)} \\in \\{0, 1\\}$, donc : \n",
    "\n",
    "$$ BCE(Y^{(i)}, H^{(i)}) = - Y^{(i)} \\log(H^{(i)}) - (1- Y^{(i)}) \\log(1 - H^{(i)}) $$\n",
    "\n",
    "$$J = BCE(Y, H) = \\frac{-1}{M} \\sum\\limits_{i=1}^{M} [Y^{(i)} \\log(H^{(i)}) + (1- Y^{(i)}) \\log(1 - H^{(i)})]$$\n",
    "\n",
    "En pratique, on peut ajouter une petite valeur $\\epsilon$ à l'argument de la fonction $\\log$ afin d'éviter $\\log(0)$"
   ]
  },
  {
   "cell_type": "code",
   "execution_count": 52,
   "id": "4894b39f",
   "metadata": {},
   "outputs": [
    {
     "data": {
      "text/plain": [
       "0.61812101133625"
      ]
     },
     "execution_count": 52,
     "metadata": {},
     "output_type": "execute_result"
    }
   ],
   "source": [
    "# TODO : La fonction de cout BCE\n",
    "# Y: un vecteur de M échantillons (les valeurs réelles)\n",
    "# H: un vecteur de M échantillons (les prédictions)\n",
    "# Résultat: une valeur réelle qui représente l'erreur BCE\n",
    "def BCE(Y: np.ndarray, H: np.ndarray, eps: float =1e-8) -> float: \n",
    "    return -1/Y.shape[0] * np.sum(Y*np.log(H+eps) + (1-Y)*np.log(1-H+eps))\n",
    "\n",
    "#=====================================================================\n",
    "# TEST UNITAIRE\n",
    "#=====================================================================\n",
    "# Resultat : 0.6181210330417681\n",
    "#---------------------------------------------------------------------\n",
    "Y_t = np.array([1., 0., 0., 1.])\n",
    "H_t = np.array([0.25, 0.25, 0.5, 0.9])\n",
    "BCE(Y_t, H_t)"
   ]
  },
  {
   "cell_type": "markdown",
   "id": "49877f9a",
   "metadata": {},
   "source": [
    "Le gradient de cette fonction est calculé comme suit : \n",
    "\n",
    "$$\\frac{\\partial BCE}{\\partial \\theta_j} \n",
    "= \\frac{-1}{M} \\sum\\limits_{i=1}^{M} \\frac{\\partial}{\\partial \\theta_j} [Y^{(i)} \\log(H^{(i)}) + (1- Y^{(i)}) \\log(1 - H^{(i)})]\n",
    "$$\n",
    "\n",
    "$$\\frac{\\partial BCE}{\\partial \\theta_j} \n",
    "= \\frac{-1}{M} \\sum\\limits_{i=1}^{M} [ Y^{(i)} \\frac{\\partial}{\\partial \\theta_j} \\log(H^{(i)}) + (1- Y^{(i)}) \\frac{\\partial}{\\partial \\theta_j}\\log(1 - H^{(i)})]\n",
    "$$\n",
    "\n",
    "$$\\frac{\\partial BCE}{\\partial \\theta_j} \n",
    "= \\frac{-1}{M} \\sum\\limits_{i=1}^{M} [ Y^{(i)} \\frac{1}{H^{(i)}} \\frac{\\partial}{\\partial \\theta_j} H^{(i)} + (1- Y^{(i)}) \\frac{-1}{1-H^{(i)}} \\frac{\\partial}{\\partial \\theta_j} H^{(i)})]\n",
    "= \\frac{-1}{M} \\sum\\limits_{i=1}^{M} \\frac{Y^{(i)}-H^{(i)}}{H^{(i)}(1-H^{(i)})} \\frac{\\partial}{\\partial \\theta_j} H^{(i)}\n",
    "$$\n",
    "\n",
    "$$\\frac{\\partial H^{(i)}}{\\partial \\theta_j} \n",
    "= \\frac{\\partial \\sigma(Z^{(i)})}{\\partial Z^{(i)}} \\frac{\\partial Z^{(i)}}{\\partial \\theta_j} \n",
    "= [\\sigma(Z^{(i)}) (1-\\sigma(Z^{(i)}))]\\frac{\\partial}{\\partial \\theta_j} \\sum\\limits_{k=0}^{N} \\theta_k X_k^{(i)}  \n",
    "= H^{(i)} (1-H^{(i)})  X_j^{(i)}\n",
    "$$\n",
    "\n",
    "$$\\frac{\\partial BCE}{\\partial \\theta_j} \n",
    "= \\frac{-1}{M} \\sum\\limits_{i=1}^{M} \\frac{Y^{(i)}-H^{(i)}}{H^{(i)}(1-H^{(i)})} [H^{(i)} (1-H^{(i)}) X_j^{(i)}]\n",
    "$$\n",
    "\n",
    "$$\\frac{\\partial BCE}{\\partial \\theta_j} = \\frac{1}{M} \\sum\\limits_{i=1}^{M} (H^{(i)} - Y^{(i)}) X_j^{(i)}$$\n",
    "\n",
    "- \n",
    "Où $X^{(i)}$ est l'échantillon $i$ et $Y^{(i)}$ est la prédiction. $X_0^{(i)} = 1$"
   ]
  },
  {
   "cell_type": "code",
   "execution_count": 53,
   "id": "3132a0c4",
   "metadata": {},
   "outputs": [
    {
     "data": {
      "text/plain": [
       "array([-0.08333333, -0.25      ])"
      ]
     },
     "execution_count": 53,
     "metadata": {},
     "output_type": "execute_result"
    }
   ],
   "source": [
    "# La fonction de gradient BCE est la même que celle de MSE\n",
    "def dBCE(X: np.ndarray, Y: np.ndarray, H: np.ndarray) -> np.ndarray:\n",
    "    return dMSE(X, Y, H)\n",
    "\n",
    "#=====================================================================\n",
    "# TEST UNITAIRE\n",
    "#=====================================================================\n",
    "# Resultat : array([-0.08333333, -0.25      ])\n",
    "#---------------------------------------------------------------------\n",
    "X_t = np.array([[1., 5.], [1., 10.], [1., 8]])\n",
    "H_t = np.array([2.75, 5.25, 4.25])\n",
    "Y_t = np.array([3., 5., 4.5])\n",
    "dMSE(X_t, Y_t, H_t)"
   ]
  },
  {
   "cell_type": "markdown",
   "id": "aec8c611",
   "metadata": {},
   "source": [
    "### I.3. Déscente du gradient \n",
    "\n",
    "\n",
    "#### I.3.1. Fonction de convergence\n",
    "\n",
    "Ici, on veut implémenter une fonction qui décide l'arrêt de la déscente du gradient en se basant sur : \n",
    "- L'erreur actuelle $J$ et l'erreur précédente $J0$\n",
    "- Nombre des itérations max $IT$ et l'itération actuelle $it$\n",
    "\n",
    "Cette fonction renvoit **True** si :\n",
    "- on a atteint le nombre maximal des itérations\n",
    "- l'erreur a augmenté (si var=True) sinon on ne prend pas la variation de l'erreur en considération"
   ]
  },
  {
   "cell_type": "code",
   "execution_count": 54,
   "id": "96f9077c",
   "metadata": {},
   "outputs": [
    {
     "data": {
      "text/plain": [
       "(False, True, True, False)"
      ]
     },
     "execution_count": 54,
     "metadata": {},
     "output_type": "execute_result"
    }
   ],
   "source": [
    "# TODO: Définir la fonction d'arret de la descente du gradient\n",
    "def arreter(J0: float, J: float, it_max: int, it: int, var:bool=True) -> bool:\n",
    "    return it == it_max or (var and J > J0)\n",
    "\n",
    "#=====================================================================\n",
    "# TEST UNITAIRE\n",
    "#=====================================================================\n",
    "# Resultat : (False, True, True, False)\n",
    "#---------------------------------------------------------------------\n",
    "arreter(0.5, 0.2, 100, 0), arreter(0.1, 0.2, 100, 5), arreter(0.5, 0.2, 100, 100), arreter(0.1, 0.2, 100, 5, var=False)"
   ]
  },
  {
   "cell_type": "markdown",
   "id": "684a1fc0",
   "metadata": {},
   "source": [
    "#### I.3.2. Fonction de mise à jour des paramètres\n",
    "\n",
    "$$\\theta_i = \\theta_i - \\alpha \\frac{\\partial J}{\\partial \\theta_j}$$\n",
    "\n",
    "Cette fonction doit retourner les nouveaux thetats"
   ]
  },
  {
   "cell_type": "code",
   "execution_count": 55,
   "id": "e2469287",
   "metadata": {},
   "outputs": [
    {
     "data": {
      "text/plain": [
       "array([0.30013333, 0.037     ])"
      ]
     },
     "execution_count": 55,
     "metadata": {},
     "output_type": "execute_result"
    }
   ],
   "source": [
    "# TODO: Définir la fonction de la mise ç jours des paramètres\n",
    "def majTheta(Theta: np.ndarray, Gradient: np.ndarray, alpha: float): \n",
    "    return Theta - alpha*Gradient\n",
    "\n",
    "#=====================================================================\n",
    "# TEST UNITAIRE\n",
    "#=====================================================================\n",
    "# Resultat : array([0.30013333, 0.037     ])\n",
    "#---------------------------------------------------------------------\n",
    "Theta_t = np.array([0.3, 0.007])\n",
    "Gradient_t = np.array([ -0.13333333, -30.])\n",
    "alpha_t = 0.001\n",
    "majTheta(Theta_t, Gradient_t, alpha_t)"
   ]
  },
  {
   "cell_type": "markdown",
   "id": "e66ae276",
   "metadata": {},
   "source": [
    "#### I.3.3. Déscente du gradient\n"
   ]
  },
  {
   "cell_type": "code",
   "execution_count": 56,
   "id": "6d5efd65",
   "metadata": {},
   "outputs": [
    {
     "data": {
      "text/plain": [
       "([array([0.3  , 0.007])], [0.016666666666666653])"
      ]
     },
     "execution_count": 56,
     "metadata": {},
     "output_type": "execute_result"
    }
   ],
   "source": [
    "def descente(X, Y, Theta, Hf=zf, Jf=MSE, dJf=dMSE, it_max=100, alpha=0.1, var=True): \n",
    "\n",
    "    H0 = Hf(X, Theta)\n",
    "    J0 = Jf(Y, H0)\n",
    "    it = 0\n",
    "    couts  = []\n",
    "    Thetas = []\n",
    "    \n",
    "    #pour ne pas modifier le contenu de Theta en entrée\n",
    "    Theta = Theta.copy()\n",
    "    \n",
    "    while True:\n",
    "        couts.append(J0)\n",
    "        Thetas.append(Theta.copy())\n",
    "        Gradient = dJf(X, Y, H0)\n",
    "        Theta = majTheta(Theta, Gradient, alpha)\n",
    "        H = Hf(X, Theta)\n",
    "        J = Jf(Y, H)\n",
    "        if arreter(J0, J, it_max, it, var=var):\n",
    "            break\n",
    "        \n",
    "        J0 = J\n",
    "        H0 = H\n",
    "        it += 1\n",
    "    \n",
    "    return Thetas, couts\n",
    "\n",
    "#=====================================================================\n",
    "# TEST UNITAIRE\n",
    "#=====================================================================\n",
    "# Resultat : ([array([0.3  , 0.007])], [0.016666666666666653])\n",
    "#---------------------------------------------------------------------\n",
    "X_t = np.array([[1., 100.], [1., 200.], [1., 300.]])\n",
    "Theta_t = np.array([0.3, 0.007])\n",
    "Y_t = np.array([1., 2., 2.5])\n",
    "IT_max = 5\n",
    "alpha_t = 0.001\n",
    "\n",
    "descente(X_t, Y_t, Theta_t, it_max=IT_max, alpha=alpha_t)"
   ]
  },
  {
   "cell_type": "markdown",
   "id": "3202df34",
   "metadata": {},
   "source": [
    "### I.4. Regroupement et test de l'implémentation\n"
   ]
  },
  {
   "cell_type": "code",
   "execution_count": 57,
   "id": "e3b6d1c5",
   "metadata": {},
   "outputs": [
    {
     "data": {
      "text/plain": [
       "(array([0.86383643, 0.5273866 , 0.96123235]),\n",
       " array([0.43202275, 0.34036983, 0.91600922, 0.88093098]))"
      ]
     },
     "execution_count": 57,
     "metadata": {},
     "output_type": "execute_result"
    }
   ],
   "source": [
    "def normaliser(X, mean=None, std=None): \n",
    "    if (mean is None) or (std is None): \n",
    "        mean = np.mean(X, axis=0)\n",
    "        std  = np.std(X, axis=0)\n",
    "    X_norm = np.where(std==0, X, (X - mean)/std)\n",
    "    return X_norm, mean, std\n",
    "\n",
    "def preparer(X, norm=True, const=True, mean=None, std=None): \n",
    "    X_pre = X.copy()\n",
    "    if norm: \n",
    "        X_pre, mean, std = normaliser(X_pre, mean=mean, std=std)\n",
    "    if const:\n",
    "        X_pre = np.append(np.ones((X_pre.shape[0], 1)), X_pre, axis=1)\n",
    "    return X_pre, mean, std\n",
    "\n",
    "def generer_zeros_1(nbr):\n",
    "    return np.zeros(nbr)\n",
    "\n",
    "def generer_uns_1(nbr):\n",
    "    return np.ones(nbr)\n",
    "\n",
    "def generer_aleatoire_1(nbr):\n",
    "    return np.random.rand(nbr)\n",
    "\n",
    "\n",
    "class Regression(object):\n",
    "    def __init__(self, alpha=.01, log=True, norm=True, const=True): \n",
    "\n",
    "        self.alpha = alpha\n",
    "        self.norm = norm\n",
    "        self.const = const\n",
    "        self.log = log\n",
    "        if log: # Régression logistique\n",
    "            self.Hf = Hf_log \n",
    "            self.Jf = BCE\n",
    "            self.dJf = dBCE\n",
    "        else: # Régression linéaire\n",
    "            self.Hf = zf\n",
    "            self.Jf = MSE\n",
    "            self.dJf = dMSE\n",
    "        \n",
    "    \n",
    "    def entrainer(self, X, Y, it_max=100): \n",
    "        X_pre, self.mean, self.std = preparer(X, norm=self.norm, const=self.const)\n",
    "        Theta = generer_uns_1(X_pre.shape[1])# Supposons, les paramètres sont initialisés à 1\n",
    "        self.Thetas, self.couts = descente(X_pre, Y, Theta, \n",
    "                                           it_max=it_max, \n",
    "                                           alpha = self.alpha,\n",
    "                                           Hf = self.Hf, # fonction logistique\n",
    "                                           Jf = self.Jf,\n",
    "                                           dJf = self.dJf\n",
    "                                          )\n",
    "        \n",
    "    # La prédiction\n",
    "    # si classes=True elle rend un vecteur de 1 et 0\n",
    "    # sinon elle rend un vecteur de probabilités\n",
    "    def predire(self, X, classes=True, seuil=0.5):\n",
    "        X_pre, _, _ = preparer(X, norm=self.norm, const=self.const, mean=self.mean, std=self.std)\n",
    "        H = self.Hf(X_pre, self.Thetas[-1])\n",
    "        if self.log and classes:\n",
    "            return (H >= seuil).astype(int)\n",
    "        return H\n",
    "\n",
    "#=====================================================================\n",
    "# TEST UNITAIRE\n",
    "#=====================================================================\n",
    "# Resultat : \n",
    "# (array([0.86383643, 0.5273866 , 0.96123235]),\n",
    "#  array([0.43202275, 0.34036983, 0.91600922, 0.88093098]))\n",
    "#---------------------------------------------------------------------\n",
    "\n",
    "X_t = np.array([\n",
    "    [100, 20],\n",
    "    [200, 10],\n",
    "    [300, 40],\n",
    "    [400, 30]\n",
    "])\n",
    "\n",
    "Y_t = np.array([1, 0, 1, 0])\n",
    "\n",
    "# logistique\n",
    "reglog = Regression()\n",
    "reglog.entrainer(X_t, Y_t)\n",
    "\n",
    "\n",
    "reglog.Thetas[-1], reglog.predire(X_t, classes=False)"
   ]
  },
  {
   "cell_type": "markdown",
   "id": "c82d96c4",
   "metadata": {},
   "source": [
    "## II. Application et analyse\n",
    "\n",
    "Dans cette partie, on va faire des petites expérimentations afin de tester l'effet des différents paramètres. \n",
    "On utilise des outils déjà existants comme scikit-learn. \n",
    "Ce qui est demandé est de discuter les résultats.\n",
    "\n",
    "### II.1. Régression linéaire "
   ]
  },
  {
   "cell_type": "code",
   "execution_count": 58,
   "id": "3cd8cdbd",
   "metadata": {},
   "outputs": [
    {
     "data": {
      "text/html": [
       "<div>\n",
       "<style scoped>\n",
       "    .dataframe tbody tr th:only-of-type {\n",
       "        vertical-align: middle;\n",
       "    }\n",
       "\n",
       "    .dataframe tbody tr th {\n",
       "        vertical-align: top;\n",
       "    }\n",
       "\n",
       "    .dataframe thead th {\n",
       "        text-align: right;\n",
       "    }\n",
       "</style>\n",
       "<table border=\"1\" class=\"dataframe\">\n",
       "  <thead>\n",
       "    <tr style=\"text-align: right;\">\n",
       "      <th></th>\n",
       "      <th>Superficie</th>\n",
       "      <th>Prix</th>\n",
       "    </tr>\n",
       "  </thead>\n",
       "  <tbody>\n",
       "    <tr>\n",
       "      <th>0</th>\n",
       "      <td>2104</td>\n",
       "      <td>399900</td>\n",
       "    </tr>\n",
       "    <tr>\n",
       "      <th>1</th>\n",
       "      <td>1600</td>\n",
       "      <td>329900</td>\n",
       "    </tr>\n",
       "    <tr>\n",
       "      <th>2</th>\n",
       "      <td>2400</td>\n",
       "      <td>369000</td>\n",
       "    </tr>\n",
       "    <tr>\n",
       "      <th>3</th>\n",
       "      <td>1416</td>\n",
       "      <td>232000</td>\n",
       "    </tr>\n",
       "    <tr>\n",
       "      <th>4</th>\n",
       "      <td>3000</td>\n",
       "      <td>539900</td>\n",
       "    </tr>\n",
       "  </tbody>\n",
       "</table>\n",
       "</div>"
      ],
      "text/plain": [
       "   Superficie    Prix\n",
       "0        2104  399900\n",
       "1        1600  329900\n",
       "2        2400  369000\n",
       "3        1416  232000\n",
       "4        3000  539900"
      ]
     },
     "execution_count": 58,
     "metadata": {},
     "output_type": "execute_result"
    }
   ],
   "source": [
    "header = [\"Superficie\", \"Prix\"]\n",
    "houses = pd.read_csv(\"datasets/houses.csv\", names=header)\n",
    "houses.head()"
   ]
  },
  {
   "cell_type": "code",
   "execution_count": 59,
   "id": "d6c2c336",
   "metadata": {},
   "outputs": [
    {
     "data": {
      "text/plain": [
       "(37, 10)"
      ]
     },
     "execution_count": 59,
     "metadata": {},
     "output_type": "execute_result"
    }
   ],
   "source": [
    "from sklearn.model_selection import train_test_split  \n",
    "\n",
    "Xhouses = houses.iloc[:, :-1].values # Premières colonnes \n",
    "Yhouses = houses.iloc[:,-1].values # Dernière colonne \n",
    "\n",
    "Xhouses_train, Xhouses_test, Yhouses_train, Yhouses_test = train_test_split(Xhouses, Yhouses, test_size=0.2, random_state=0)  \n",
    "\n",
    "len(Xhouses_train), len(Xhouses_test)"
   ]
  },
  {
   "cell_type": "markdown",
   "id": "74a295d0",
   "metadata": {},
   "source": [
    "#### II.1.1. Taux d'apprentissage et convergence \n",
    "\n",
    "Ici, nous avons varié le taux d'apprentissage et afficher les courbes de la fonction objective par rapport à l'itération. "
   ]
  },
  {
   "cell_type": "code",
   "execution_count": 68,
   "id": "0989edc6",
   "metadata": {},
   "outputs": [
    {
     "data": {
      "image/png": "[encoded data removed]",
      "text/plain": [
       "<Figure size 432x288 with 1 Axes>"
      ]
     },
     "metadata": {
      "needs_background": "light"
     },
     "output_type": "display_data"
    }
   ],
   "source": [
    "ITMAX  = 100\n",
    "alphas = [1., 0.1, 0.01, 0.001]\n",
    "\n",
    "# Création et entraînement des nouveaux modèles de régression linéaire\n",
    "for alpha in alphas:\n",
    "    # Création d'un nouveau modèle de régression linéaire\n",
    "    modele = Regression(alpha=alpha, log=False)\n",
    "    # Entraînement du modèle\n",
    "    modele.entrainer(Xhouses_train, Yhouses_train, it_max=ITMAX)\n",
    "    # Visualisation de la convergence\n",
    "    plt.plot(modele.couts, label = 'alpha=' + str(alpha))\n",
    "    \n",
    "plt.xlabel('Nombre des itérations')\n",
    "plt.ylabel('Coût')\n",
    "plt.legend()\n",
    "#plt.autoscale()\n",
    "plt.show()"
   ]
  },
  {
   "cell_type": "markdown",
   "id": "fd0e0afe",
   "metadata": {},
   "source": [
    "**TODO : Analyser les résultats**\n",
    "- Que remarquez-vous ? \n",
    "- Donner une hypothèse concernant le taux d'apprentissage\n",
    "- Essayer de justifier cette hypothèse par ce que vous avez vu en cours\n",
    "\n",
    "**Réponse :** \n",
    "- La variation de l'erreur en fonction du nombre d'itérations dans la phase d'entraînement dépend du paramètre alpha (taux d'apprentissage). Lorsque alpha est proche de 1, l'erreur converge rapidement et lorsque alpha est petit, il faut plus d'itérations. Avec alpha=1, l'erreur converge directement vers sa valeur finale tandis qu'avec alpha=0.1, il faut plus de 20 itérations pour converger. (plus de 100 itérations pour alpha=0.01 et alpha=0.001).\n",
    "\n",
    "- La vitesse de convergence de l'erreur augmente lorsqu'on augmente alpha et diminue lorsqu'on le diminue.\n",
    "\n",
    "- Ça se justifie par la manière de calculer les nouveaux thetats (déscente du gradient) $$\\theta_i = \\theta_i - \\alpha \\frac{\\partial J}{\\partial \\theta_j}$$ le pas à chaque itération est le gradient pondéré par alpha."
   ]
  },
  {
   "cell_type": "markdown",
   "id": "48d71e90",
   "metadata": {},
   "source": [
    "#### II.1.2. Prediction \n",
    "\n",
    "On veut tester la capacité de prédiction en utilisant la régression linéaire.\n",
    "Pour ce faire, on entraîne un modèle de régression pour prédire les prix des maisons en se basant sur la superficie."
   ]
  },
  {
   "cell_type": "code",
   "execution_count": 61,
   "id": "a0949468",
   "metadata": {},
   "outputs": [
    {
     "data": {
      "image/png": "[encoded data removed]",
      "text/plain": [
       "<Figure size 432x288 with 1 Axes>"
      ]
     },
     "metadata": {
      "needs_background": "light"
     },
     "output_type": "display_data"
    }
   ],
   "source": [
    "from sklearn.linear_model  import LinearRegression\n",
    "from sklearn.preprocessing import StandardScaler\n",
    "from sklearn.pipeline      import make_pipeline\n",
    "\n",
    "# Entraînement d'un modèle de régression linéaire \n",
    "# Premièrement, on crée un pipeline avec une standardisation suivie par une regression linéaire\n",
    "regresseur1 = make_pipeline(StandardScaler(with_mean=False), LinearRegression())\n",
    "# Ensuite, on entraîne le modèle sur les données d'entraînement\n",
    "regresseur1.fit(Xhouses_train, Yhouses_train)\n",
    "\n",
    "# On utilise le modèle pour prédire les prix sur le dataset d'entraînement\n",
    "Yhouses_pred = regresseur1.predict(Xhouses_test )\n",
    "# On utilise le modèle pour prédire les prix sur le dataset de test\n",
    "Yhouses_line = regresseur1.predict(Xhouses_train)  \n",
    "\n",
    "# Visualiser la distribution des données d'entraînement et de test\n",
    "# Aussi, la ligne de prédiction et la prédiction du dataset de test\n",
    "plt.scatter(Xhouses_train, Yhouses_train, color='blue',   label = 'entrainement'      )\n",
    "plt.scatter(Xhouses_test,  Yhouses_test,  color='green',  label = 'test'              )\n",
    "plt.plot   (Xhouses_train, Yhouses_line,  color=\"red\",    label = 'line de prediction')\n",
    "plt.scatter(Xhouses_test,  Yhouses_pred,  color=\"violet\", label = \"prediction\"        )\n",
    "plt.xlabel('Superficie')\n",
    "plt.ylabel('Prix')\n",
    "plt.legend()\n",
    "plt.show()"
   ]
  },
  {
   "cell_type": "markdown",
   "id": "91bd2855",
   "metadata": {},
   "source": [
    "**TODO : Analyser les résultats**\n",
    "- Que remarquez-vous ?\n",
    "- Est-ce que la régression linéaire peut prédire exactement les valeurs Y ?\n",
    "- Pourquoi ?\n",
    "\n",
    "**Réponse :**\n",
    "- Les prix prédits sont plus ou moins proches des prix réels.\n",
    "- Non, la régression linéaire prédit des valeurs approchées de Y avec une erreur qui dépend de plusierus facteurs (corrélation entre les variables, données d'entraînement, taux d'apprentissage, ...).\n",
    "- En générale c'est parce que les variables éxplicatives choisies ne suffisent pas pour éxpliquer Y."
   ]
  },
  {
   "cell_type": "markdown",
   "id": "e327ee9b",
   "metadata": {},
   "source": [
    "#### II.1.3. Prediction avec régression polynomiale\n",
    "\n",
    "On veut tester si l'utilisation de plusieurs caracétristiques peut améliorer la prédiction. \n",
    "Aussi, on veut savoir si plusieurs caractéristiques améliore toujours la qualité de prédiction. \n",
    "Pour ce faire, nous avons créé des nouvelles caractéristiques pour avoir une régression polynomiale : $X^5$ et $X^{10}$.\n",
    "\n",
    "Pour évaluer la performance des modèles, on va se baser sur l'aspet visuel et aussi l'erreur RMSE."
   ]
  },
  {
   "cell_type": "code",
   "execution_count": 62,
   "id": "d037eda2",
   "metadata": {},
   "outputs": [
    {
     "data": {
      "image/png": "[encoded data removed]",
      "text/plain": [
       "<Figure size 432x288 with 1 Axes>"
      ]
     },
     "metadata": {
      "needs_background": "light"
     },
     "output_type": "display_data"
    }
   ],
   "source": [
    "from sklearn.preprocessing import PolynomialFeatures\n",
    "from sklearn.metrics       import mean_squared_error\n",
    "\n",
    "degres = [5, 10]\n",
    "\n",
    "erreurs_labels = [1] + degres\n",
    "erreurs_rmse   = [np.sqrt(mean_squared_error(Yhouses_test, Yhouses_pred))]\n",
    "\n",
    "couleurs=['magenta', 'cyan']\n",
    "\n",
    "# Ordonner le dataset en se basant sur la superficie\n",
    "# Ensuite, récupérer la liste des indexes (positions ordonnées)\n",
    "idx = Xhouses_train[:,0].argsort()\n",
    "\n",
    "# Visualiser la distribution des données d'entraînement et de test\n",
    "plt.scatter(Xhouses_train, Yhouses_train, color='blue',  label = 'entrainement')\n",
    "plt.scatter(Xhouses_test,  Yhouses_test,  color='green', label = 'test')\n",
    "# Dessiner la ligne de décision\n",
    "plt.plot(Xhouses_train[idx], regresseur1.predict(Xhouses_train[idx]), color='red', label = 'ligne degré=1')\n",
    "\n",
    "# Entraîner des modèles polynomiaux et visualiser leur convergence\n",
    "for i in range(len(degres)):\n",
    "    regresseur = make_pipeline(PolynomialFeatures(degree=degres[i], include_bias=False), \n",
    "                               StandardScaler(with_mean=False), \n",
    "                               LinearRegression())  \n",
    "    regresseur.fit(Xhouses_train, Yhouses_train)  \n",
    "    plt.plot(Xhouses_train[idx], regresseur.predict(Xhouses_train)[idx], \n",
    "             color=couleurs[i],  label = \"ligne degré=\" + str(degres[i]))\n",
    "    Yhouses_pred = regresseur.predict(Xhouses_test) \n",
    "    erreurs_rmse.append(np.sqrt(mean_squared_error(Yhouses_test, Yhouses_pred)))\n",
    "\n",
    "plt.xlabel('Superficie')\n",
    "plt.ylabel('Prix')\n",
    "plt.legend()\n",
    "plt.show()"
   ]
  },
  {
   "cell_type": "code",
   "execution_count": 63,
   "id": "200a1158",
   "metadata": {},
   "outputs": [
    {
     "data": {
      "text/html": [
       "<div>\n",
       "<style scoped>\n",
       "    .dataframe tbody tr th:only-of-type {\n",
       "        vertical-align: middle;\n",
       "    }\n",
       "\n",
       "    .dataframe tbody tr th {\n",
       "        vertical-align: top;\n",
       "    }\n",
       "\n",
       "    .dataframe thead th {\n",
       "        text-align: right;\n",
       "    }\n",
       "</style>\n",
       "<table border=\"1\" class=\"dataframe\">\n",
       "  <thead>\n",
       "    <tr style=\"text-align: right;\">\n",
       "      <th></th>\n",
       "      <th>Degré</th>\n",
       "      <th>Erreur (RMSE)</th>\n",
       "    </tr>\n",
       "  </thead>\n",
       "  <tbody>\n",
       "    <tr>\n",
       "      <th>0</th>\n",
       "      <td>1</td>\n",
       "      <td>76300.858343</td>\n",
       "    </tr>\n",
       "    <tr>\n",
       "      <th>1</th>\n",
       "      <td>5</td>\n",
       "      <td>68683.844226</td>\n",
       "    </tr>\n",
       "    <tr>\n",
       "      <th>2</th>\n",
       "      <td>10</td>\n",
       "      <td>125675.108302</td>\n",
       "    </tr>\n",
       "  </tbody>\n",
       "</table>\n",
       "</div>"
      ],
      "text/plain": [
       "   Degré  Erreur (RMSE)\n",
       "0      1   76300.858343\n",
       "1      5   68683.844226\n",
       "2     10  125675.108302"
      ]
     },
     "execution_count": 63,
     "metadata": {},
     "output_type": "execute_result"
    }
   ],
   "source": [
    "pd.DataFrame({\n",
    "    \"Degré\"         : erreurs_labels,\n",
    "    \"Erreur (RMSE)\" : erreurs_rmse\n",
    "})"
   ]
  },
  {
   "cell_type": "markdown",
   "id": "1c147afa",
   "metadata": {},
   "source": [
    "**TODO : Analyser les résultats**\n",
    "\n",
    "- Que remarquez-vous (lignes de prédiction et erreur par rapport le degré)?\n",
    "- Donner une hypothèse (en précisant si plus de données ou avoir des données complexes peut/doit améliorer la performance)\n",
    "- Essayer de justifier cette hypothèse par rapport ce que vous avez vu en cours \n",
    "\n",
    "**Réponse :**\n",
    "- Les lignes de prédiction approchent et passent par plus de points d'entraînement lorsqu'on augmente le degré. L'erreur diminue lorsqu'on ajoute la caractéristique $X^5$ mais elle augmente lorsqu'on ajoute la caractéristique$X^{10}$ en dépassant celle obtenue avec la régression linéaire (avec seulement X).\n",
    "\n",
    "- Avoir plus de caractériqtiques (des données plus complexes) peut améliorer la qualité de prédiction (mais ce n'est pas toujours le cas).\n",
    "\n",
    "- Nous avons vu en cours que le sous-apprentissage (les erreurs obtenues sur les données d’apprentissage et de tests sont élevés) est un problème qu'on peut rencontrer lorsqu'on utilise l'apprentissage automatique. Pour le résoudre il faut prendre en considération d’autres attributs mais on risque de tomber sur le problème de sur-apprentissage (les erreurs obtenues sur les données de tests sont beaucoup plus importantes que sur les données d’apprentissage) qui, pour le résoudre, il faut soit rajouter des observations ou réduire le nombre d'attributs."
   ]
  },
  {
   "cell_type": "markdown",
   "id": "90f584a8",
   "metadata": {},
   "source": [
    "### II.2. Régression logistique binaire "
   ]
  },
  {
   "cell_type": "code",
   "execution_count": 64,
   "id": "727a03f9",
   "metadata": {},
   "outputs": [
    {
     "data": {
      "text/html": [
       "<div>\n",
       "<style scoped>\n",
       "    .dataframe tbody tr th:only-of-type {\n",
       "        vertical-align: middle;\n",
       "    }\n",
       "\n",
       "    .dataframe tbody tr th {\n",
       "        vertical-align: top;\n",
       "    }\n",
       "\n",
       "    .dataframe thead th {\n",
       "        text-align: right;\n",
       "    }\n",
       "</style>\n",
       "<table border=\"1\" class=\"dataframe\">\n",
       "  <thead>\n",
       "    <tr style=\"text-align: right;\">\n",
       "      <th></th>\n",
       "      <th>Note1</th>\n",
       "      <th>Note2</th>\n",
       "      <th>Admis</th>\n",
       "    </tr>\n",
       "  </thead>\n",
       "  <tbody>\n",
       "    <tr>\n",
       "      <th>0</th>\n",
       "      <td>9.75</td>\n",
       "      <td>16.00</td>\n",
       "      <td>1</td>\n",
       "    </tr>\n",
       "    <tr>\n",
       "      <th>1</th>\n",
       "      <td>2.25</td>\n",
       "      <td>9.50</td>\n",
       "      <td>0</td>\n",
       "    </tr>\n",
       "    <tr>\n",
       "      <th>2</th>\n",
       "      <td>4.50</td>\n",
       "      <td>2.50</td>\n",
       "      <td>0</td>\n",
       "    </tr>\n",
       "    <tr>\n",
       "      <th>3</th>\n",
       "      <td>15.50</td>\n",
       "      <td>10.25</td>\n",
       "      <td>1</td>\n",
       "    </tr>\n",
       "    <tr>\n",
       "      <th>4</th>\n",
       "      <td>3.25</td>\n",
       "      <td>19.50</td>\n",
       "      <td>1</td>\n",
       "    </tr>\n",
       "  </tbody>\n",
       "</table>\n",
       "</div>"
      ],
      "text/plain": [
       "   Note1  Note2  Admis\n",
       "0   9.75  16.00      1\n",
       "1   2.25   9.50      0\n",
       "2   4.50   2.50      0\n",
       "3  15.50  10.25      1\n",
       "4   3.25  19.50      1"
      ]
     },
     "execution_count": 64,
     "metadata": {},
     "output_type": "execute_result"
    }
   ],
   "source": [
    "notes = pd.read_csv(\"datasets/notes.csv\")\n",
    "\n",
    "# Extraction des features \n",
    "X_notes = notes.iloc[:, :-1].values # Premières colonnes \n",
    "\n",
    "Y_notes = notes.iloc[:,-1].values # Dernière colonne \n",
    "\n",
    "notes.head()"
   ]
  },
  {
   "cell_type": "markdown",
   "id": "34dbee9d",
   "metadata": {},
   "source": [
    "#### II.2.1. Normalisation et convergence \n",
    "\n",
    "Ici, on veut tester l'effet de la normalisation sur la convergence du modèle.\n",
    "Pour ce faire, nous avons entraîné deux modèles : un sur les données non normalisées et l'autres sur les mêmes données mais normalisées. On s'intresse ici par le nombre des itérations necessaires pour atteindre un minimum d'erreur."
   ]
  },
  {
   "cell_type": "code",
   "execution_count": 65,
   "id": "be0f1220",
   "metadata": {},
   "outputs": [
    {
     "data": {
      "image/png": "[encoded data removed]",
      "text/plain": [
       "<Figure size 432x288 with 1 Axes>"
      ]
     },
     "metadata": {
      "needs_background": "light"
     },
     "output_type": "display_data"
    }
   ],
   "source": [
    "ALPHA = 0.01\n",
    "ITMAX = 200\n",
    "\n",
    "# Création des modèles\n",
    "reg_log_nonorm = Regression(norm=False, alpha=ALPHA, log=True) # sans normalisation\n",
    "reg_log_norm   = Regression(norm=True,  alpha=ALPHA, log=True) # avec normalisation\n",
    "\n",
    "# Entraînement des modèles\n",
    "reg_log_nonorm.entrainer(X_notes, Y_notes)\n",
    "reg_log_norm  .entrainer(X_notes, Y_notes)\n",
    "\n",
    "# Visualisation de la convergence\n",
    "plt.plot(reg_log_nonorm.couts, label = 'sans normalisation')\n",
    "plt.plot(reg_log_norm.couts,   label = 'avec normalisation')\n",
    "plt.xlabel('Nombre des itérations')\n",
    "plt.ylabel('Coût')\n",
    "plt.legend()\n",
    "#plt.autoscale()\n",
    "plt.show()"
   ]
  },
  {
   "cell_type": "markdown",
   "id": "ba7ea078",
   "metadata": {},
   "source": [
    "**TODO : Analyser les résultats**\n",
    "\n",
    "- Que remarquez-vous ?\n",
    "- Donner une hypothèse (convergence avec normalisation)\n",
    "- Essayer de justifier cette hypothèse par ce que vous avez vu en cours\n",
    "\n",
    "**Réponse**\n",
    "   \n",
    "- Avec les données non normalisées, il faut plus d'itérations ($\\approx 30$) et l'erreur minimale après convergence reste plus grande que celle obtenue avec les données normalisées.\n",
    "\n",
    "- La normalisation des données augmente la vitesse d'apprentissage (convergence de l'erreur lors de l'apprentissage).\n",
    "\n",
    "- En général, les caractéristiques ont des ordres de grandeur différents. Donc sans normalisation, les thetas et les gradients associés aux caractéristiques ayant des grandes valeurs vont dominer les thetas et gradients du reste des caractéristiques, ce qui affecte la vitesse de convergence et l'erreur minimale qu'on peut obtenir car le taux d'apprentissage alpha est le même pour toutes les caractéristiques."
   ]
  },
  {
   "cell_type": "markdown",
   "id": "f3c33c82",
   "metadata": {},
   "source": [
    "#### II.2.2. Complexité du modèle et apprentissage\n",
    "\n",
    "On veut améliorer la séparation entre les deux classes : \"admis\" et \"non admis\". Pour ce faire, on a proposé d'ajouter des caractéristiques complexes : $X^3$ et $X^5$."
   ]
  },
  {
   "cell_type": "code",
   "execution_count": 69,
   "id": "e6f8aba2",
   "metadata": {
    "scrolled": true
   },
   "outputs": [
    {
     "data": {
      "image/png": "[encoded data removed]",
      "text/plain": [
       "<Figure size 720x360 with 1 Axes>"
      ]
     },
     "metadata": {
      "needs_background": "light"
     },
     "output_type": "display_data"
    }
   ],
   "source": [
    "from sklearn.linear_model import LogisticRegression\n",
    "\n",
    "# ce block du code est pour filtrer les avertissements concernant la convergence du modèle\n",
    "# en général, lorsque e nombre des itérations n'est pas suffisant pour atteindre l'erreur minimale\n",
    "import warnings\n",
    "from sklearn.exceptions import ConvergenceWarning\n",
    "warnings.filterwarnings(\"ignore\", category=ConvergenceWarning)\n",
    "\n",
    "degres = [3, 5]\n",
    "couleurs=['red', 'magenta', 'blue']\n",
    "\n",
    "# Une fonction pour dessiner le plan de séparation binaire étant donnée un modèle\n",
    "# modele : c'est un modèle enttraîné pour la prédiction binaire\n",
    "# ax: un objet de type matplotlib.axes.Axes; les axes sur lesquels on va dessiner\n",
    "# xrange: une liste des points sur l'axe X\n",
    "# yrange: une liste des points sur l'axe Y\n",
    "# couleur: la couleur du dessin (de la ligne de séparation)\n",
    "# label: l'étiquêtte du dessin (la ligne de séparation)\n",
    "def dessiner2D(modele, ax, xrange, yrange, couleur='red', label=''):\n",
    "    # Créer une matrice de (xrange X yrange): notre plan de dessin\n",
    "    XX = [[[xr, yr] for xr in xrange] for yr in yrange]\n",
    "    # Représenter le sous forme d'une matrice de (xrange X yrange)/2 échantillons et 2 caractéristiques\n",
    "    XX = np.array(XX).reshape(-1, 2)\n",
    "    # Prédire les probabilités (estimation) et retransformer vers notre plan (xrange X yrange)\n",
    "    grid = modele.predict(XX).reshape(len(xrange), len(yrange))\n",
    "    # Dessiner des lignes qui passent par les valeurs 0.5\n",
    "    cs = ax.contour(xrange, yrange, grid, colors=[couleur], linewidths=(1), linestyles=('-'),levels=[0.5])\n",
    "    # Affecter l'étiquêtte à la ligne de séparation (qui es un contour dans notre cas)\n",
    "    cs.collections[0].set_label(label)\n",
    "\n",
    "\n",
    "X_notes_train = X_notes[:80, :]\n",
    "X_notes_test  = X_notes[80:, :]\n",
    "Y_notes_train = Y_notes[:80   ]\n",
    "Y_notes_test  = Y_notes[80:   ]\n",
    "\n",
    "# Trouver les indexes ordonnées \n",
    "idx2 = X_notes_train[:,0].argsort()\n",
    "\n",
    "# Sélectionner le cas \"admis\" dans l'entraînement et le test\n",
    "oui_train = Y_notes_train == 1\n",
    "oui_test  = Y_notes_test  == 1\n",
    "\n",
    "# Dessiner les cas \"admis\" et \"Non admis\" de l'entraînement et du test\n",
    "fig, ax = plt.subplots(figsize=(10, 5))\n",
    "ax.scatter(X_notes_train[oui_train, 0], X_notes_train[oui_train, 1], \n",
    "           color='green', marker='o', label='Admis (entrainement)')\n",
    "ax.scatter(X_notes_train[~oui_train, 0], X_notes_train[~oui_train, 1], \n",
    "           color='green', marker='x', label='Non Admis (entrainement)')\n",
    "ax.scatter(X_notes_test[oui_test, 0], X_notes_test[oui_test, 1], \n",
    "           color='red', marker='o', label='Admis (test)')\n",
    "ax.scatter(X_notes_test[~oui_test, 0], X_notes_test[~oui_test, 1], \n",
    "           color='red', marker='x', label='Non Admis (test)')\n",
    "\n",
    "# Créer l'espace des notes : entre 0 et 20 avec une résolution de 50\n",
    "xrange = np.linspace(0, 20, 50) # Note 1\n",
    "yrange = np.linspace(0, 20, 50) # Note 2\n",
    "\n",
    "# Dessiner la ligne de séparation dans une régression linéaire\n",
    "reglog1 = LogisticRegression(penalty='none')\n",
    "reglog1.fit(X_notes_train, Y_notes_train)\n",
    "dessiner2D(reglog1, ax, xrange, yrange, label='X')\n",
    "\n",
    "# Dessiner la ligne de séparation dans une régression polynomiale\n",
    "# Le modèle dans ce cas est un pipeline qui commence par créer des caractéristiques polynomiales\n",
    "# ensuite passe le résultat vers un modèle de régression logistique\n",
    "for i in range(len(degres)):\n",
    "    modele = make_pipeline(PolynomialFeatures(degree=degres[i], include_bias=False),\n",
    "                           LogisticRegression(penalty='none'))\n",
    "    modele.fit(X_notes_train, Y_notes_train)\n",
    "    dessiner2D(modele, ax, xrange, yrange, couleur=couleurs[i+1], label='X^' + str(degres[i]))\n",
    "\n",
    "\n",
    "plt.xlabel('Note 1')\n",
    "plt.ylabel('Note 2')\n",
    "plt.legend(loc='upper right')\n",
    "plt.show()"
   ]
  },
  {
   "cell_type": "markdown",
   "id": "d55395f8",
   "metadata": {},
   "source": [
    "**TODO : Analyser les résultats**\n",
    "\n",
    "- Que remarquez-vous (les nouveaux modèles ont-il été capables d'améliorer le modèle initial: l'adjustement/fitting et la généralisation) ? \n",
    "- Donner une hypothèse (Quelle est la raison d'amélioration/détérioration ?) \n",
    "- Essayer de justifier cette hypothèse par ce que vous avez vu en cours\n",
    "\n",
    "**Réponse**\n",
    "\n",
    "- Les nouveaux modèles sont plus ajustés (overfitted aux données d'entraînement) mais ils ont moins de généralisation. Le meilleure modèle est celui avec seulement X.\n",
    "\n",
    "- L'ajout de nouvelles caractéristiques peut détériorer le modèle.\n",
    "\n",
    "- Lorsqu'on a peu de données, l'ajout de nouvelles caractéristiques peut mener à un sur-apprentissage car le modèle va être complètement ajustés aux données d'entraînement mais pas capable de généraliser, ce qui fait que les erreurs obtenues sur les données de tests sont beaucoup plus importantes que sur les données d’apprentissage. Pour résoudre ce problème, il faut soit rajouter des observations ou utiliser la régularisation. "
   ]
  }
 ],
 "metadata": {
  "kernelspec": {
   "display_name": "esi-ml",
   "language": "python",
   "name": "esi-ml"
  },
  "language_info": {
   "codemirror_mode": {
    "name": "ipython",
    "version": 3
   },
   "file_extension": ".py",
   "mimetype": "text/x-python",
   "name": "python",
   "nbconvert_exporter": "python",
   "pygments_lexer": "ipython3",
   "version": "3.9.7"
  }
 },
 "nbformat": 4,
 "nbformat_minor": 5
}
