{
 "cells": [
  {
   "cell_type": "markdown",
   "metadata": {},
   "source": [
    "# TP 02 : Régression logistique Multinomiale\n",
    "\n",
    "Binômes : \n",
    "- Binôme 1\n",
    "- Binôme 2\n",
    "\n",
    "\n",
    "**INTRODUCTION**\n",
    "\n",
    "Nous avons implémenté le cas d'une seule classe (binaire : oui ou non). Pour appliquer un classement sur plusieurs classes, on peut entrainner $L$ modèles de régression logistique (où $L$ est le nombre des classes). Dans ce cas, nos résultats (Y) doivent encodée en 0 et 1. Pour un modèle $M_i$ d'une classe $C_i$, la sortie $Y$ doit avoir 1 si $C_i$, 0 si une autre classe. (One-to-rest classification)\n",
    "\n",
    "Une autre approche (celle qu'on va implémenter) est d'encoder la sortie en utilisant OneHot encoder. Pour $L$ classes et un échantillon donnée, on va avoir $L$ sorties (une ayant 1 et les autres 0). Pour un dataset avec $M$ échantillons, $N$ caractéristiques et $L$ classes, on va avoir les dimensions suivantes : \n",
    "- $X [M, N]$\n",
    "- $Y [M, L]$\n",
    "- $\\theta [N, L]$\n",
    "\n",
    "Cette dernière approche s'appelle maximum entropy (MaxEnt). Elle généralise la régresion logistique."
   ]
  },
  {
   "cell_type": "code",
   "execution_count": 203,
   "metadata": {},
   "outputs": [
    {
     "data": {
      "text/plain": [
       "('1.22.2', '1.4.1', '3.3.4')"
      ]
     },
     "execution_count": 203,
     "metadata": {},
     "output_type": "execute_result"
    }
   ],
   "source": [
    "import numpy as np\n",
    "import pandas as pd \n",
    "import matplotlib\n",
    "import matplotlib.pyplot as plt \n",
    "%matplotlib inline\n",
    "\n",
    "np.__version__, pd.__version__, matplotlib.__version__"
   ]
  },
  {
   "cell_type": "code",
   "execution_count": 204,
   "metadata": {},
   "outputs": [],
   "source": [
    "from typing          import Tuple, List, Type\n",
    "from collections.abc import Callable"
   ]
  },
  {
   "cell_type": "markdown",
   "metadata": {},
   "source": [
    "## I. Réalisation des algorithmes\n",
    "\n",
    "Cette partie sert à améliorer la compréhension les algorithmes d'apprentissage automatique vus en cours en les implémentant à partir de zéro. \n",
    "Pour ce faire, on va utiliser la bibliothèque **numpy** qui est utile dans les calcules surtout matricielles.\n",
    "\n",
    "### I.1. Combinaison linéaire\n",
    "\n",
    "On combine les $N$  caractéristiques linéairement comme dans la régression linéaire binaire. \n",
    "La seule différence est que nous avons plus de classes, donc le nombre des paramètres va être multiplié par le nombre des classes.\n",
    "La somme pondérée d'une classe $c$ est calculée selon la formule : \n",
    "\n",
    "$$Z_c = zfn_c(X, \\theta) = \\sum\\limits_{j=0}^{N} \\theta_{(c, j)} X_j | X_0 = 1 $$\n",
    "\n",
    "La forme matricielle de $Z$ sera : \n",
    "$$Z = zfn(X, \\theta) = X \\cdot \\theta$$\n",
    "\n",
    "- $X[M, N]$ : une matrice de M lignes (échantillons) et N colonnes (caractéristiques, y compris le biais).  \n",
    "- $\\theta[N, L]$ : une matrice de N lignes (caractéristiques, y compris le biais) et L colonnes (classes). \n",
    "- $Z[M, L]$ : une matrice de M lignes (échantillons) et L colonnes (classes)."
   ]
  },
  {
   "cell_type": "code",
   "execution_count": 205,
   "metadata": {},
   "outputs": [
    {
     "data": {
      "text/plain": [
       "array([[0. , 0. , 0. ],\n",
       "       [0.5, 0.1, 0.6],\n",
       "       [0.2, 0.3, 0. ],\n",
       "       [0.7, 0.4, 0.6]])"
      ]
     },
     "execution_count": 205,
     "metadata": {},
     "output_type": "execute_result"
    }
   ],
   "source": [
    "# TODO implémenter la fonction de combinaison linéaire \n",
    "def zfn(X: np.ndarray, Theta: np.ndarray) -> np.ndarray: \n",
    "    return np.dot(X, Theta)\n",
    "\n",
    "#=====================================================================\n",
    "# TEST UNITAIRE\n",
    "#=====================================================================\n",
    "# Resultat : \n",
    "# array([[0. , 0. , 0. ],\n",
    "#        [0.5, 0.1, 0.6],\n",
    "#        [0.2, 0.3, 0. ],\n",
    "#        [0.7, 0.4, 0.6]])\n",
    "#---------------------------------------------------------------------\n",
    "\n",
    "X_tn = np.array([[0., 0.], \n",
    "                 [1., 0.], \n",
    "                 [0., 1.], \n",
    "                 [1., 1.]]) # 4 échntillons, 2 caractéristiques\n",
    "Theta_tn = np.array([[0.5, 0.1, 0.6],\n",
    "                     [0.2, 0.3, 0.0]]) # 2 caractéristiques, 3 classes\n",
    "zfn(X_tn, Theta_tn)"
   ]
  },
  {
   "cell_type": "markdown",
   "metadata": {},
   "source": [
    "### I.2. Calcul des probabilités\n",
    "\n",
    "Les valeurs combinées sont transformées à des probabilités en utilisant la fonction softmax. \n",
    "La fonction softmax nous assure que la somme des probabilités des classes égale à 1.\n",
    "Cette fonction prend les combinaisons linéaires $Z[M, L]$ et calcule les probabilités $P[M, L] comme suite : \n",
    "\n",
    "$$softmax(Z)=\\frac{e^Z}{\\sum\\limits_{k=1}^{L} e^{Z_k}}$$\n",
    "\n",
    "- $M$ nombre des échantillons\n",
    "- $N$ nombre des caractéristiques\n",
    "- $L$ nombre des classes\n",
    "- La somme des probabilités de chaque ligne doit être 1"
   ]
  },
  {
   "cell_type": "code",
   "execution_count": 206,
   "metadata": {},
   "outputs": [
    {
     "data": {
      "text/plain": [
       "array([[0.33333333, 0.33333333, 0.33333333],\n",
       "       [0.36029662, 0.24151404, 0.39818934],\n",
       "       [0.34200877, 0.37797814, 0.28001309],\n",
       "       [0.37797814, 0.28001309, 0.34200877]])"
      ]
     },
     "execution_count": 206,
     "metadata": {},
     "output_type": "execute_result"
    }
   ],
   "source": [
    "# TODO compléter la fonction softmax\n",
    "def softmax(Z: np.ndarray) -> np.ndarray:\n",
    "    return np.exp(Z) / np.sum(np.exp(Z), axis=1)[:, np.newaxis]\n",
    "\n",
    "#=====================================================================\n",
    "# TEST UNITAIRE\n",
    "#=====================================================================\n",
    "# Resultat : \n",
    "# array([[0.33333333, 0.33333333, 0.33333333],\n",
    "#       [0.36029662, 0.24151404, 0.39818934],\n",
    "#       [0.34200877, 0.37797814, 0.28001309],\n",
    "#       [0.37797814, 0.28001309, 0.34200877]])\n",
    "#---------------------------------------------------------------------\n",
    "Z_tn = np.array([[0. , 0. , 0. ],\n",
    "                 [0.5, 0.1, 0.6],\n",
    "                 [0.2, 0.3, 0. ],\n",
    "                 [0.7, 0.4, 0.6]])\n",
    "softmax(Z_tn)"
   ]
  },
  {
   "cell_type": "markdown",
   "metadata": {},
   "source": [
    "### I.3. Prédiction \n",
    "\n",
    "Etant donnée les probabilités des classes pour chaque échantillon, on doit choisir la classe avec le max de probabilité.\n",
    "\n",
    "$$\n",
    "\\hat{C}^{(i)}_j = \n",
    "\\begin{cases}\n",
    "1 & si & H^{(i)}_j \\ge \\max P^{(i)}\\\\\n",
    "0 & sinon & \\\\\n",
    "\\end{cases}\n",
    "$$\n",
    "\n",
    "- $H[M, L]$ probabilités où chaque ligne est yn échantillon et chaque collone est une classe\n",
    "- $\\hat{C}[M, L]$ prédictions où chaque ligne est yn échantillon et chaque collone est une classe. $\\hat{C}^{(i)}_j \\in \\{0, 1\\}$"
   ]
  },
  {
   "cell_type": "code",
   "execution_count": 207,
   "metadata": {},
   "outputs": [
    {
     "data": {
      "text/plain": [
       "array([[1, 1, 1],\n",
       "       [0, 0, 1],\n",
       "       [0, 1, 0],\n",
       "       [1, 0, 0]])"
      ]
     },
     "execution_count": 207,
     "metadata": {},
     "output_type": "execute_result"
    }
   ],
   "source": [
    "# TODO compléter cette fonction \n",
    "# Elle doit calculer la \n",
    "# H est un vecteur de probabilités \n",
    "def cn(H: np.ndarray) -> np.ndarray:\n",
    "    return (H >= np.tile(np.max(H, axis=1)[:, np.newaxis], H.shape[1])).astype(int)\n",
    "\n",
    "#=====================================================================\n",
    "# TEST UNITAIRE\n",
    "#=====================================================================\n",
    "# Resultat : \n",
    "# array([[1, 1, 1],\n",
    "#        [0, 0, 1],\n",
    "#        [0, 1, 0],\n",
    "#        [1, 0, 0]])\n",
    "#---------------------------------------------------------------------\n",
    "\n",
    "H_tn = np.array([[0.33333333, 0.33333333, 0.33333333],\n",
    "             [0.36029662, 0.24151404, 0.39818934],\n",
    "             [0.34200877, 0.37797814, 0.28001309],\n",
    "             [0.37797814, 0.28001309, 0.34200877]])\n",
    "cn(H_tn)"
   ]
  },
  {
   "cell_type": "markdown",
   "metadata": {},
   "source": [
    "### I.4. Calcul du coût \n",
    "\n",
    "On réfère aux probabilités trouvées par la fonction softmax comme $H$, où $H_c$ est la probabilité d'une classe $c$.\n",
    "Etant donné un échantillon $X^{(i)}$, son coût est calculé comme : \n",
    "\n",
    "$$ cout(H^{(i)}, Y^{(i)}) = - \\sum\\limits_{c=1}^{L} Y^{(i)}_c \\log(H^{(i)}_c)$$\n",
    "\n",
    "Le coût total est la moyenne des coût de tous les échantillons\n",
    "\n",
    "$$J(H, Y) = \\frac{1}{M} \\sum\\limits_{i=1}^{M} cout(H^{(i)}, Y^{(i)})$$\n",
    "\n",
    "- $H[M, L]$ : les probabilités estimées de chaque échantillon (M) de chaque classe (L)\n",
    "- $Y[M, L]$ : les probabilités réelles (1 ou 0) de chaque échantillon (M) de chaque classe (L)"
   ]
  },
  {
   "cell_type": "code",
   "execution_count": 208,
   "metadata": {},
   "outputs": [
    {
     "data": {
      "text/plain": [
       "1.1913194530574498"
      ]
     },
     "execution_count": 208,
     "metadata": {},
     "output_type": "execute_result"
    }
   ],
   "source": [
    "# TODO compléter \n",
    "def jn(H: np.ndarray, Y: np.ndarray) -> np.ndarray:\n",
    "    return 1/H.shape[0] * np.sum(- np.sum(Y * np.log(H), axis=1))\n",
    "\n",
    "#=====================================================================\n",
    "# TEST UNITAIRE\n",
    "#=====================================================================\n",
    "# Resultat : 1.1913194530574498\n",
    "#---------------------------------------------------------------------\n",
    "\n",
    "H_tn = np.array([[0.33333333, 0.33333333, 0.33333333],\n",
    "                 [0.36029662, 0.24151404, 0.39818934],\n",
    "                 [0.34200877, 0.37797814, 0.28001309],\n",
    "                 [0.37797814, 0.28001309, 0.34200877]])\n",
    "Y_tn = np.array([[1,0,0], [0,1,0], [0,0,1], [1,0,0]])\n",
    "\n",
    "jn(H_tn, Y_tn)"
   ]
  },
  {
   "cell_type": "markdown",
   "metadata": {},
   "source": [
    "### I.5. Calcul des gradients\n",
    "\n",
    "La taille des gradients est la même que celle des paramètres $\\theta[N, L]$. \n",
    "\n",
    "$$\\frac{\\partial J}{\\theta_j} = \\frac{1}{M} \\sum\\limits_{i=1}^{M} (H^{(i)} - Y^{(i)}) X^{(i)}_{j} $$\n",
    "\n",
    "Sa forme matricielle sera \n",
    "$$\\frac{\\partial J}{\\theta_j} = \\frac{1}{M} X^\\top \\cdot (H-Y) $$\n",
    "\n",
    "- $X[M, N]$ : une matrice de M lignes (échantillons) et N colonnes (caractéristiques, y compris le biais).  \n",
    "- $H[M, L]$ : les probabilités estimées de chaque échantillon (M) de chaque classe (L)\n",
    "- $Y[M, L]$ : les probabilités réelles (1 ou 0) de chaque échantillon (M) de chaque classe (L)\n",
    "- $\\frac{\\partial J}{\\theta}[N, L]$ : une matrice de L lignes (classes) et N colonnes (caractéristiques, y compris le biais). "
   ]
  },
  {
   "cell_type": "code",
   "execution_count": 209,
   "metadata": {},
   "outputs": [
    {
     "data": {
      "text/plain": [
       "array([[-0.06543131, -0.11961822,  0.18504953],\n",
       "       [-0.07000327,  0.16449781, -0.09449454]])"
      ]
     },
     "execution_count": 209,
     "metadata": {},
     "output_type": "execute_result"
    }
   ],
   "source": [
    "# TODO compléter\n",
    "def dJn(X: np.ndarray, H: np.ndarray, Y: np.ndarray) -> np.ndarray:\n",
    "    return 1/X.shape[0] * np.dot(np.transpose(X), (H - Y))\n",
    "\n",
    "#=====================================================================\n",
    "# TEST UNITAIRE\n",
    "#=====================================================================\n",
    "# Resultat : \n",
    "# array([[-0.06543131, -0.11961822,  0.18504953],\n",
    "#        [-0.07000327,  0.16449781, -0.09449454]])\n",
    "#---------------------------------------------------------------------\n",
    "X_tn = np.array([[0., 0.], [1., 0.], [0., 1.], [1., 1.]])\n",
    "H_tn = np.array([[0.33333333, 0.33333333, 0.33333333],\n",
    "                 [0.36029662, 0.24151404, 0.39818934],\n",
    "                 [0.34200877, 0.37797814, 0.28001309],\n",
    "                 [0.37797814, 0.28001309, 0.34200877]])\n",
    "Y_tn = np.array([[1,0,0], [0,1,0], [0,0,1], [1,0,0]])\n",
    "\n",
    "dJn(X_tn, H_tn, Y_tn)"
   ]
  },
  {
   "cell_type": "markdown",
   "metadata": {},
   "source": [
    "### I.6. Descente du gradient adaptative\n",
    "\n",
    "Les coéfficients sont mis à jour itérativement en se basant sur le gradient et un taux d'apprentissage $\\alpha$ comme dans la descente des gradients normale. La différence est que dans **AdaGrad**, on adapte le taux d'apprentissage de chaque paramètre $\\theta$ selon l'historique des gradients.\n",
    "\n",
    "\n",
    "#### I.6.1. Mise à jours des gradients\n",
    "\n",
    "Dans cette fonction, on va implémenter la désente des gradients normale (celle dans le TP précédent ... Hint: copy-coller)\n",
    "\n",
    "$$\\theta = \\theta - \\alpha \\frac{\\partial J(\\theta)}{\\theta_j}$$\n",
    "\n",
    "aussi, la déscente des gradients adaptative (AdaGrad)\n",
    "\n",
    "$$V = V + (\\frac{\\partial J(\\theta)}{\\partial \\theta})^2$$\n",
    "\n",
    "$$\\theta = \\theta - \\frac{\\alpha}{\\sqrt{V +\\epsilon}} \\frac{\\partial J(\\theta)}{\\theta}$$\n",
    "\n",
    "- $\\theta[N, L]$ : les paramètres de $L$ classes et $N$ caractéristiques\n",
    "- $\\frac{\\partial J(\\theta)}{\\partial \\theta}[N, L]$ les gradients de ces paramètres\n",
    "- $V[N, L]$ : hyper-paramètre pour l'adjustement du taux d'apprentissage pour chaque paramètre\n",
    "- $\\epsilon=e^{-8}$\n",
    "\n",
    "\n",
    "Quelques conditions sur la fonction :\n",
    "- La fonction doit retourner les paramètres mises-à-jours et le nouveau vecteur $V$\n",
    "- Si la valeur booléenne $adagrad=True$, on doit appliquer adagrad (calculer le nouveau V et mettre à jours $\\theta$ selon AdaGrad)\n",
    "- Si cette valeur égale à $False$, on utilise la mise à jour normale et on retourne le même V d l'entrée.\n",
    "\n"
   ]
  },
  {
   "cell_type": "code",
   "execution_count": 210,
   "metadata": {},
   "outputs": [
    {
     "data": {
      "text/plain": [
       "((array([[0.50065431, 0.10119618, 0.5981495 ],\n",
       "         [0.20070003, 0.29835502, 0.00094495]]),\n",
       "  array([[0.2 , 0.1 , 0.5 ],\n",
       "         [0.05, 0.15, 0.2 ]])),\n",
       " (array([[0.50146309, 0.10378266, 0.597383  ],\n",
       "         [0.20313064, 0.29575268, 0.00211296]]),\n",
       "  array([[0.20428126, 0.11430852, 0.53424333],\n",
       "         [0.05490046, 0.17705953, 0.20892922]])))"
      ]
     },
     "execution_count": 210,
     "metadata": {},
     "output_type": "execute_result"
    }
   ],
   "source": [
    "# TODO: Définir la fonction de la mise ç jours des paramètres\n",
    "def majThetaAdaGrad(Theta: np.array, \n",
    "                    Gradient: np.array, \n",
    "                    alpha: float, \n",
    "                    V: np.array, \n",
    "                    adagrad: bool=False, \n",
    "                    eps: float =1e-08) -> Tuple[np.array, np.array]:\n",
    "    return (Theta - alpha / np.sqrt(V + eps) * Gradient, V + np.square(Gradient)) if adagrad else (Theta - alpha * Gradient, V)\n",
    "\n",
    "#=====================================================================\n",
    "# TEST UNITAIRE\n",
    "#=====================================================================\n",
    "# Resultat : \n",
    "# ((array([[0.50065431, 0.10119618, 0.5981495 ],\n",
    "#          [0.20070003, 0.29835502, 0.00094495]]),\n",
    "#   array([[0.2 , 0.1 , 0.5 ],\n",
    "#          [0.05, 0.15, 0.2 ]])),\n",
    "#  (array([[0.50144768, 0.103538  , 0.59746826],\n",
    "#          [0.20298765, 0.29609069, 0.00206732]]),\n",
    "#   array([[0.20428126, 0.11430852, 0.53424333],\n",
    "#          [0.05490046, 0.17705953, 0.20892922]])))\n",
    "#---------------------------------------------------------------------\n",
    "Theta_tn = np.array([[0.5, 0.1, 0.6],\n",
    "                     [0.2, 0.3, 0.0]]) # 2 caractéristiques, 3 classes\n",
    "Gradient_tn = np.array([[-0.06543131, -0.11961822,  0.18504953], \n",
    "                       [-0.07000327,  0.16449781, -0.09449454]])# 2 caractéristiques, 3 classes\n",
    "V_tn = np.array([[0.2, 0.1, 0.5],\n",
    "                [0.05, 0.15, 0.2]]) # 2 caractéristiques, 3 classes\n",
    "alpha_tn = 0.01\n",
    "majThetaAdaGrad(Theta_tn, Gradient_tn, alpha_tn, V_tn), majThetaAdaGrad(Theta_tn, Gradient_tn, alpha_tn, V_tn, adagrad=True)"
   ]
  },
  {
   "cell_type": "markdown",
   "metadata": {},
   "source": [
    "#### I.6.2. La descente des gradients\n",
    "\n",
    "**Rien à programmer ici**"
   ]
  },
  {
   "cell_type": "code",
   "execution_count": 211,
   "metadata": {},
   "outputs": [
    {
     "data": {
      "text/plain": [
       "(array([[ 0.84298097,  1.57919742, -1.22217839],\n",
       "        [ 0.60036187, -1.45101777,  1.3506559 ]]),\n",
       " 0.5977646913907274)"
      ]
     },
     "execution_count": 211,
     "metadata": {},
     "output_type": "execute_result"
    }
   ],
   "source": [
    "def des_grad_adagrad(X, Y, Theta, max_iter=200, alpha=0.1, adagrad=False):\n",
    "    \n",
    "    couts = []\n",
    "    \n",
    "    V = np.zeros(Theta.shape) # Générer des zéros\n",
    "    Theta1 = Theta.copy() # pour ne pas modifier Theta original\n",
    "    \n",
    "    for i in range(max_iter): # Ici, la seule condition d'arrêt est le nombre des itérations\n",
    "        H = softmax(zfn(X, Theta1))\n",
    "        couts.append(jn(H, Y))\n",
    "        Theta1, V = majThetaAdaGrad(Theta1, dJn(X, H, Y), alpha, V, adagrad=adagrad)\n",
    "    \n",
    "    return Theta1, couts\n",
    "\n",
    "#=====================================================================\n",
    "# TEST UNITAIRE\n",
    "#=====================================================================\n",
    "# Resultat : \n",
    "# (array([[ 0.84298097,  1.57919742, -1.22217839],\n",
    "#         [ 0.60036187, -1.45101777,  1.3506559 ]]),\n",
    "#  0.5977646913907274)\n",
    "#---------------------------------------------------------------------\n",
    "X_tn = np.array([[0., 0.], [1., 0.], [0., 1.], [1., 1.]]) # deux variables logiques\n",
    "Y_tn = np.array([[1,0,0], [0,1,0], [0,0,1], [1,0,0]]) # égale, sup, inf, égale\n",
    "Theta_tn = np.array([[0.5, 0.1, 0.6],\n",
    "                     [0.2, 0.3, 0.0]]) # 2 caractéristiques, 3 classes\n",
    "\n",
    "theta_n, couts_n = des_grad_adagrad(X_tn, Y_tn, Theta_tn)\n",
    "\n",
    "theta_n, couts_n[-1]"
   ]
  },
  {
   "cell_type": "markdown",
   "metadata": {},
   "source": [
    "### I.7. Regrouper les fonctions ensemble \n",
    "\n",
    "Pour bien gérer l'entrainnement et la prédiction, on rassemble les fonctions que vous avez implémenté dans une seul classe. L'intérêt : \n",
    "- Si on applique la normalisation durant l'entrainnement, on doit l'appliquer aussi durant la prédiction. En plus, on doit utiliser les mêmes paramètres (moyenne et écart-type)\n",
    "- On utilise les thétas optimales lors de la prédicition\n"
   ]
  },
  {
   "cell_type": "code",
   "execution_count": 212,
   "metadata": {},
   "outputs": [
    {
     "data": {
      "text/plain": [
       "array([[1, 0, 0],\n",
       "       [0, 1, 0],\n",
       "       [0, 1, 0],\n",
       "       [0, 0, 1]])"
      ]
     },
     "execution_count": 212,
     "metadata": {},
     "output_type": "execute_result"
    }
   ],
   "source": [
    "def normaliser(X, mean=None, std=None): \n",
    "    if (mean is None) or (std is None):\n",
    "        mean = np.mean(X, axis=0)\n",
    "        std = np.std(X, axis=0)\n",
    "    X_norm = np.where(std==0, X, (X - mean)/std)\n",
    "    return X_norm, mean, std\n",
    "\n",
    "def preparer(X, norm=True, const=True, mean=None, std=None): \n",
    "    X_pre = X.copy()\n",
    "    if norm: \n",
    "        X_pre, mean, std = normaliser(X_pre,mean=mean, std=std)\n",
    "    if const:\n",
    "        X_pre = np.append(np.ones((X_pre.shape[0],1)), X_pre ,axis=1)\n",
    "    return X_pre, mean, std\n",
    "\n",
    "class MaxEnt(object):\n",
    "    \n",
    "    def __init__(self, norm=True, const=True): \n",
    "        self.norm = norm\n",
    "        self.const = const\n",
    "    \n",
    "    def entrainer(self, X, Y, max_iter=100, alpha=.01, adagrad=False): \n",
    "        X_pre, self.mean, self.std = preparer(X, norm=self.norm, const=self.const)\n",
    "        Theta = np.zeros((X_pre.shape[1], Y.shape[1])) # Theta[N, L]\n",
    "        self.Theta, self.couts = des_grad_adagrad(X_pre, Y, Theta, max_iter=max_iter, alpha=alpha, adagrad=adagrad)\n",
    "        \n",
    "        \n",
    "    # La prédiction\n",
    "    # si prob=True elle rend un vecteur de probabilités\n",
    "    # sinon elle rend une vecteur de 1 et 0\n",
    "    def predire(self, X, prob=True):\n",
    "        X_pre, self.mean, self.std = preparer(X, norm=self.norm, const=self.const, mean=self.mean, std=self.std)\n",
    "        H = softmax(zfn(X_pre, self.Theta))\n",
    "        if prob:\n",
    "            return H\n",
    "        return cn(H)\n",
    "\n",
    "\n",
    "#=====================================================================\n",
    "# TEST UNITAIRE\n",
    "#=====================================================================\n",
    "# Resultat : \n",
    "# array([[1, 0, 0],\n",
    "#        [0, 1, 0],\n",
    "#        [0, 1, 0],\n",
    "#        [0, 0, 1]])\n",
    "#---------------------------------------------------------------------\n",
    "X_tn = np.array([[0., 0.], [1., 0.], [0., 1.], [1., 1.]]) # deux variables logiques\n",
    "Y_tn = np.array([[1,0,0], [0,1,0], [0,0,1], [1,0,0]]) # égale, sup, inf, égale\n",
    "\n",
    "X_testn = np.array([[2., 2.], [1., 0.], [1., -1.], [2., 5.]])\n",
    "\n",
    "maxent = MaxEnt()\n",
    "maxent.entrainer(X_tn, Y_tn)\n",
    "maxent.predire(X_testn, prob=False)"
   ]
  },
  {
   "cell_type": "markdown",
   "metadata": {},
   "source": [
    "## II. Application et analyse\n",
    "\n",
    "On va utiliser [Iris dataset](https://archive.ics.uci.edu/ml/datasets/iris) pour classer des fleurs en trois classes, en utilisant 4 caractéristiques. Pour simplification, on va utiliser seulement 2 caractéristiques: Petal Length (cm); Petal Width (cm). D'après [Ce tutoriel](https://teddykoker.com/2019/06/multi-class-classification-with-logistic-regression-in-python/) ces 2 caractéristiques sont suffisantes.\n",
    "\n",
    "**Dans cette partie, vous n'avez rien à programmer. Mais, il faut analyser les résultats à la fin**\n",
    "\n",
    "Deux solutions à analyser : \n",
    "- Entrainer 3 modèles de régression logistique binaire\n",
    "- Entrainer 1 modèle de régression logistique multinomial "
   ]
  },
  {
   "cell_type": "code",
   "execution_count": 213,
   "metadata": {},
   "outputs": [
    {
     "data": {
      "text/html": [
       "<div>\n",
       "<style scoped>\n",
       "    .dataframe tbody tr th:only-of-type {\n",
       "        vertical-align: middle;\n",
       "    }\n",
       "\n",
       "    .dataframe tbody tr th {\n",
       "        vertical-align: top;\n",
       "    }\n",
       "\n",
       "    .dataframe thead th {\n",
       "        text-align: right;\n",
       "    }\n",
       "</style>\n",
       "<table border=\"1\" class=\"dataframe\">\n",
       "  <thead>\n",
       "    <tr style=\"text-align: right;\">\n",
       "      <th></th>\n",
       "      <th>sepal_length</th>\n",
       "      <th>sepal_width</th>\n",
       "      <th>petal_length</th>\n",
       "      <th>petal_width</th>\n",
       "      <th>class</th>\n",
       "    </tr>\n",
       "  </thead>\n",
       "  <tbody>\n",
       "    <tr>\n",
       "      <th>0</th>\n",
       "      <td>5.1</td>\n",
       "      <td>3.5</td>\n",
       "      <td>1.4</td>\n",
       "      <td>0.2</td>\n",
       "      <td>Iris-setosa</td>\n",
       "    </tr>\n",
       "    <tr>\n",
       "      <th>1</th>\n",
       "      <td>4.9</td>\n",
       "      <td>3.0</td>\n",
       "      <td>1.4</td>\n",
       "      <td>0.2</td>\n",
       "      <td>Iris-setosa</td>\n",
       "    </tr>\n",
       "    <tr>\n",
       "      <th>2</th>\n",
       "      <td>4.7</td>\n",
       "      <td>3.2</td>\n",
       "      <td>1.3</td>\n",
       "      <td>0.2</td>\n",
       "      <td>Iris-setosa</td>\n",
       "    </tr>\n",
       "    <tr>\n",
       "      <th>3</th>\n",
       "      <td>4.6</td>\n",
       "      <td>3.1</td>\n",
       "      <td>1.5</td>\n",
       "      <td>0.2</td>\n",
       "      <td>Iris-setosa</td>\n",
       "    </tr>\n",
       "    <tr>\n",
       "      <th>4</th>\n",
       "      <td>5.0</td>\n",
       "      <td>3.6</td>\n",
       "      <td>1.4</td>\n",
       "      <td>0.2</td>\n",
       "      <td>Iris-setosa</td>\n",
       "    </tr>\n",
       "  </tbody>\n",
       "</table>\n",
       "</div>"
      ],
      "text/plain": [
       "   sepal_length  sepal_width  petal_length  petal_width        class\n",
       "0           5.1          3.5           1.4          0.2  Iris-setosa\n",
       "1           4.9          3.0           1.4          0.2  Iris-setosa\n",
       "2           4.7          3.2           1.3          0.2  Iris-setosa\n",
       "3           4.6          3.1           1.5          0.2  Iris-setosa\n",
       "4           5.0          3.6           1.4          0.2  Iris-setosa"
      ]
     },
     "execution_count": 213,
     "metadata": {},
     "output_type": "execute_result"
    }
   ],
   "source": [
    "iris = pd.read_csv(\"datasets/iris.csv\")\n",
    "iris.head()"
   ]
  },
  {
   "cell_type": "code",
   "execution_count": 214,
   "metadata": {},
   "outputs": [
    {
     "data": {
      "text/html": [
       "<div>\n",
       "<style scoped>\n",
       "    .dataframe tbody tr th:only-of-type {\n",
       "        vertical-align: middle;\n",
       "    }\n",
       "\n",
       "    .dataframe tbody tr th {\n",
       "        vertical-align: top;\n",
       "    }\n",
       "\n",
       "    .dataframe thead th {\n",
       "        text-align: right;\n",
       "    }\n",
       "</style>\n",
       "<table border=\"1\" class=\"dataframe\">\n",
       "  <thead>\n",
       "    <tr style=\"text-align: right;\">\n",
       "      <th></th>\n",
       "      <th>petal_length</th>\n",
       "      <th>petal_width</th>\n",
       "      <th>class</th>\n",
       "    </tr>\n",
       "  </thead>\n",
       "  <tbody>\n",
       "    <tr>\n",
       "      <th>0</th>\n",
       "      <td>1.4</td>\n",
       "      <td>0.2</td>\n",
       "      <td>Iris-setosa</td>\n",
       "    </tr>\n",
       "    <tr>\n",
       "      <th>1</th>\n",
       "      <td>1.4</td>\n",
       "      <td>0.2</td>\n",
       "      <td>Iris-setosa</td>\n",
       "    </tr>\n",
       "    <tr>\n",
       "      <th>2</th>\n",
       "      <td>1.3</td>\n",
       "      <td>0.2</td>\n",
       "      <td>Iris-setosa</td>\n",
       "    </tr>\n",
       "    <tr>\n",
       "      <th>3</th>\n",
       "      <td>1.5</td>\n",
       "      <td>0.2</td>\n",
       "      <td>Iris-setosa</td>\n",
       "    </tr>\n",
       "    <tr>\n",
       "      <th>4</th>\n",
       "      <td>1.4</td>\n",
       "      <td>0.2</td>\n",
       "      <td>Iris-setosa</td>\n",
       "    </tr>\n",
       "  </tbody>\n",
       "</table>\n",
       "</div>"
      ],
      "text/plain": [
       "   petal_length  petal_width        class\n",
       "0           1.4          0.2  Iris-setosa\n",
       "1           1.4          0.2  Iris-setosa\n",
       "2           1.3          0.2  Iris-setosa\n",
       "3           1.5          0.2  Iris-setosa\n",
       "4           1.4          0.2  Iris-setosa"
      ]
     },
     "execution_count": 214,
     "metadata": {},
     "output_type": "execute_result"
    }
   ],
   "source": [
    "if iris.shape[1] > 3:\n",
    "    iris.drop([\"sepal_length\", \"sepal_width\"], axis = 1, inplace=True)\n",
    "iris.head()"
   ]
  },
  {
   "cell_type": "markdown",
   "metadata": {},
   "source": [
    "### II.1. Séparabilité des classes\n",
    "\n",
    "Ici, on veut vérifier la séparabilité des classes visuellement (en se basant sur les deux caractéristiques)."
   ]
  },
  {
   "cell_type": "code",
   "execution_count": 215,
   "metadata": {},
   "outputs": [
    {
     "data": {
      "image/png": "[encoded data removed]",
      "text/plain": [
       "<Figure size 432x288 with 1 Axes>"
      ]
     },
     "metadata": {
      "needs_background": "light"
     },
     "output_type": "display_data"
    }
   ],
   "source": [
    "Xiris = iris.iloc[:, :-1].values # Premières colonnes \n",
    "\n",
    "Yiris = iris.iloc[:,-1].values # Dernière colonne \n",
    "\n",
    "setosa = iris[\"class\"] == \"Iris-setosa\"\n",
    "versicolor = iris[\"class\"] == \"Iris-versicolor\"\n",
    "virginica = iris[\"class\"] == \"Iris-virginica\"\n",
    "\n",
    "plt.scatter(Xiris[setosa, 0], Xiris[setosa, 1], color=\"red\", label=\"Iris-setosa\")\n",
    "plt.scatter(Xiris[versicolor, 0], Xiris[versicolor, 1], color=\"blue\", label=\"Iris-versicolor\")\n",
    "plt.scatter(Xiris[virginica, 0], Xiris[virginica, 1], color=\"green\", label=\"Iris-virginica\")\n",
    "\n",
    "plt.xlabel(\"sepal_length\")\n",
    "plt.ylabel(\"sepal_width\")\n",
    "plt.legend()\n",
    "plt.show()"
   ]
  },
  {
   "cell_type": "markdown",
   "metadata": {},
   "source": [
    "**TODO : Analyser les résultats**\n",
    "- Que remarquez-vous concernant la séparabilité des 3 classes?\n",
    "- Donner une hypothèse concernant la performance des modèles sur ce dataset (Rappel, Précision)\n",
    "- Justifier cette hypothèse (Rappel, Précision) en comparant les 3 classes\n",
    "\n",
    "**Réponse**\n",
    "- La classe \"setosa\" est bien séparée aux autres classes. Les classes \"Versicolor\" et \"Verginca\" sont séparées mais avec une petite intersection entre eux.\n",
    "- ...\n",
    "- ..."
   ]
  },
  {
   "cell_type": "code",
   "execution_count": 216,
   "metadata": {},
   "outputs": [
    {
     "data": {
      "text/plain": [
       "(120,\n",
       " 30,\n",
       " (array(['Iris-setosa', 'Iris-versicolor', 'Iris-virginica'], dtype=object),\n",
       "  array([10, 10, 10])))"
      ]
     },
     "execution_count": 216,
     "metadata": {},
     "output_type": "execute_result"
    }
   ],
   "source": [
    "from sklearn.model_selection import train_test_split  \n",
    "\n",
    "Xiris_train, Xiris_test, Yiris_train, Yiris_test = train_test_split(Xiris, Yiris, \n",
    "                                                                    test_size=0.2, # 20% pour le teste\n",
    "                                                                    random_state=0, \n",
    "                                                                    stratify=Yiris) # stratification sur Yiris\n",
    "\n",
    "len(Xiris_train), len(Xiris_test), np.unique(Yiris_test, return_counts=True)"
   ]
  },
  {
   "cell_type": "markdown",
   "metadata": {},
   "source": [
    "### II.2. AdaGrad\n",
    "\n",
    "Ici, on veut comparer AdaGrad contre la déscente du gradient traditionnelle. Nous avons entraîné deux modèles : \n",
    "- **DG** : modèle avec la déscente du gradient normale\n",
    "- **AdaGrad** : modèle avec AdaGrad"
   ]
  },
  {
   "cell_type": "code",
   "execution_count": 217,
   "metadata": {},
   "outputs": [
    {
     "data": {
      "text/plain": [
       "array([[1., 0., 0.],\n",
       "       [1., 0., 0.],\n",
       "       [1., 0., 0.],\n",
       "       [1., 0., 0.]])"
      ]
     },
     "execution_count": 217,
     "metadata": {},
     "output_type": "execute_result"
    }
   ],
   "source": [
    "from sklearn.preprocessing import OneHotEncoder\n",
    "enc_iris = OneHotEncoder()\n",
    "Yiris_train_enc = enc_iris.fit_transform(np.array(Yiris_train).reshape(-1,1))\n",
    "\n",
    "Yiris_train_enc.toarray()[:4, :]"
   ]
  },
  {
   "cell_type": "markdown",
   "metadata": {},
   "source": [
    "#### II.2.1. Convergence\n",
    "\n",
    "Ici, on veut tester la convergence : rapidité (plus rapide = meilleur) et convergence finale (moins d'erreur = meilleur)"
   ]
  },
  {
   "cell_type": "code",
   "execution_count": 218,
   "metadata": {},
   "outputs": [
    {
     "data": {
      "image/png": "[encoded data removed]",
      "text/plain": [
       "<Figure size 432x288 with 1 Axes>"
      ]
     },
     "metadata": {
      "needs_background": "light"
     },
     "output_type": "display_data"
    }
   ],
   "source": [
    "MAX_ITER = 500\n",
    "mxent_dg = MaxEnt()\n",
    "mxent_dg.entrainer(Xiris_train, Yiris_train_enc.toarray(), max_iter=MAX_ITER)\n",
    "mxent_adagrad = MaxEnt()\n",
    "mxent_adagrad.entrainer(Xiris_train, Yiris_train_enc.toarray(), adagrad=True, max_iter=MAX_ITER)\n",
    "\n",
    "\n",
    "plt.plot(mxent_dg.couts, label = \"DG\")\n",
    "plt.plot(mxent_adagrad.couts, label = \"AdaGrad\")\n",
    "plt.legend()\n",
    "#plt.autoscale()\n",
    "plt.show()"
   ]
  },
  {
   "cell_type": "markdown",
   "metadata": {},
   "source": [
    "**TODO : Analyser les résultats**\n",
    "- Que remarquez-vous ?\n",
    "- Donner une hypothèse\n",
    "- Essayer de justifier cette hypothèse en se basant sur la formule de AdaGrad\n",
    "- Peut-on utiliser AdaGrad lorsque nous avons beaucoup de minimums locaux ? Pourquoi ?\n",
    "\n",
    "**Réponse**\n",
    "- On remarque que pendant les premieres iterations, le cout pour la methode de decente du gradient adaptative augmente tres rapidement, puis il diminut et converge rapidement vers une valeur. Par contre pour la methode de decente du gradient normale, la convergence est plus lente par rapport a la premiere methode, mais elle converge vers une valeur meilleur.\n",
    "- La decente du gradient adaptative converge plus rapidement par rapport a la decente du gradient normale, mais la valeur de convergence finale est plus grande, donc plus d'erreur.\n",
    "- ...\n",
    "- Non. "
   ]
  },
  {
   "cell_type": "markdown",
   "metadata": {},
   "source": [
    "#### II.2.1. Performance (AdaGrad)\n",
    "\n",
    "Ici, on veut tester la performance sur le dataset de test."
   ]
  },
  {
   "cell_type": "code",
   "execution_count": 219,
   "metadata": {},
   "outputs": [
    {
     "name": "stdout",
     "output_type": "stream",
     "text": [
      "Descente du gradient\n",
      "                 precision    recall  f1-score   support\n",
      "\n",
      "    Iris-setosa       1.00      1.00      1.00        10\n",
      "Iris-versicolor       1.00      0.60      0.75        10\n",
      " Iris-virginica       0.71      1.00      0.83        10\n",
      "\n",
      "       accuracy                           0.87        30\n",
      "      macro avg       0.90      0.87      0.86        30\n",
      "   weighted avg       0.90      0.87      0.86        30\n",
      "\n",
      "AdaGrad\n",
      "                 precision    recall  f1-score   support\n",
      "\n",
      "    Iris-setosa       1.00      1.00      1.00        10\n",
      "Iris-versicolor       0.59      1.00      0.74        10\n",
      " Iris-virginica       1.00      0.30      0.46        10\n",
      "\n",
      "       accuracy                           0.77        30\n",
      "      macro avg       0.86      0.77      0.73        30\n",
      "   weighted avg       0.86      0.77      0.73        30\n",
      "\n"
     ]
    }
   ],
   "source": [
    "from sklearn.metrics import classification_report\n",
    "\n",
    "print(\"Descente du gradient\")\n",
    "print(classification_report(Yiris_test, enc_iris.inverse_transform(mxent_dg.predire(Xiris_test)), target_names=enc_iris.categories_[0]))\n",
    "\n",
    "print(\"AdaGrad\")\n",
    "print(classification_report(Yiris_test, enc_iris.inverse_transform(mxent_adagrad.predire(Xiris_test)), target_names=enc_iris.categories_[0]))"
   ]
  },
  {
   "cell_type": "markdown",
   "metadata": {},
   "source": [
    "**TODO : Analyser les résultats**\n",
    "- Que remarquez-vous (Précision vs Recall (setosa); GD vs AdaGrad (micro-avg)) ?\n",
    "- Donner une hypothèse sur la convergence AdaGrad (peut-t-on converger) et comment l'améliorer\n",
    "- Essayer de justifier cette hypothèse (GD vs AdaGrad)\n",
    "\n",
    "**Réponse**\n",
    "- On remarque que la précision et le rappel sont aa 100% pour la classe \"setosa\", dans les deux cas (GD et AdaGrad). Le micro-avg est supérieure dans le cas de GD (0.87) que dans le cas d'AdaGrad (0.77), ce qui veut dire que, on est plus précis lorsque on utilise le GD dans cette dataset de test.  \n",
    "- Une hypothèse sur la convergence AdaGrad: on peut converger mais pas toujours au meilleur minimum (concernant le coût). On peut l'améliorer en augmentant l'hyper-paramètre alpha.\n",
    "- ..."
   ]
  },
  {
   "cell_type": "markdown",
   "metadata": {},
   "source": [
    "### II.3. One-vs-Rest OU One-vs-One\n",
    "\n",
    "Nous avons entrainé deux modèles : \n",
    "- **One-vs-Rest** : ici, trois sous-modèles binaires sont entraînés ; un pour chaque class. Chaque sous modèle détecte si l'échantillon appartient à sa classe ou non. Lors de la prédiction, on prend la classe avec le max de probabilité\n",
    "- **One-vs-One** : ici, un modèle de régression logistique multinomiale (maximum entropy) est entraîné pour séparer les trois classes\n"
   ]
  },
  {
   "cell_type": "code",
   "execution_count": 220,
   "metadata": {},
   "outputs": [
    {
     "name": "stdout",
     "output_type": "stream",
     "text": [
      "One-vs-Rest\n",
      "                 precision    recall  f1-score   support\n",
      "\n",
      "    Iris-setosa       1.00      1.00      1.00        10\n",
      "Iris-versicolor       0.91      1.00      0.95        10\n",
      " Iris-virginica       1.00      0.90      0.95        10\n",
      "\n",
      "       accuracy                           0.97        30\n",
      "      macro avg       0.97      0.97      0.97        30\n",
      "   weighted avg       0.97      0.97      0.97        30\n",
      "\n",
      "One-vs-One\n",
      "                 precision    recall  f1-score   support\n",
      "\n",
      "    Iris-setosa       1.00      1.00      1.00        10\n",
      "Iris-versicolor       1.00      1.00      1.00        10\n",
      " Iris-virginica       1.00      1.00      1.00        10\n",
      "\n",
      "       accuracy                           1.00        30\n",
      "      macro avg       1.00      1.00      1.00        30\n",
      "   weighted avg       1.00      1.00      1.00        30\n",
      "\n"
     ]
    }
   ],
   "source": [
    "from sklearn.linear_model import LogisticRegression\n",
    "\n",
    "one2rest = LogisticRegression(solver=\"lbfgs\", penalty=\"none\", multi_class=\"ovr\")\n",
    "one2rest.fit(Xiris_train, Yiris_train)\n",
    "\n",
    "one2one = LogisticRegression(solver=\"lbfgs\", penalty=\"none\", multi_class=\"multinomial\")\n",
    "one2one.fit(Xiris_train, Yiris_train)\n",
    "\n",
    "print(\"One-vs-Rest\")\n",
    "print(classification_report(Yiris_test, one2rest.predict(Xiris_test)))\n",
    "\n",
    "print(\"One-vs-One\")\n",
    "print(classification_report(Yiris_test, one2one.predict(Xiris_test)))"
   ]
  },
  {
   "cell_type": "markdown",
   "metadata": {},
   "source": [
    "**TODO : Analyser les résultats**\n",
    "\n",
    "On remarque que la performance de One-vs-One est meilleure que celle de One-vs-Rest\n",
    "- Pourquoi ? (en se basant sur la limite de décision et les paramètres)\n",
    "- Quel mécanisme de ces deux est affecté beaucoup plus par les valeurs aberrantes (les échantillons d'une classe qui peuvent se retrouver aux milieu d'une autre classe)\n",
    "\n",
    "**Réponse**\n",
    "- \n",
    "- Le mécanisme qui est affecté beaucoup plus par les valeurs aberrantes est One-vs-Rest."
   ]
  },
  {
   "cell_type": "code",
   "execution_count": null,
   "metadata": {},
   "outputs": [],
   "source": []
  }
 ],
 "metadata": {
  "interpreter": {
   "hash": "916dbcbb3f70747c44a77c7bcd40155683ae19c65e1c03b4aa3499c5328201f1"
  },
  "kernelspec": {
   "display_name": "esi-ml",
   "language": "python",
   "name": "python3"
  },
  "language_info": {
   "codemirror_mode": {
    "name": "ipython",
    "version": 3
   },
   "file_extension": ".py",
   "mimetype": "text/x-python",
   "name": "python",
   "nbconvert_exporter": "python",
   "pygments_lexer": "ipython3",
   "version": "3.9.5"
  }
 },
 "nbformat": 4,
 "nbformat_minor": 4
}
